{
 "cells": [
  {
   "cell_type": "code",
   "execution_count": null,
   "id": "fc51c25d-2a83-460d-8214-0ea1012ff130",
   "metadata": {
    "scrolled": true
   },
   "outputs": [],
   "source": [
    "!pip freeze"
   ]
  },
  {
   "cell_type": "code",
   "execution_count": null,
   "id": "2fdacabe-aba5-4fd9-b077-fe7110233b1d",
   "metadata": {},
   "outputs": [],
   "source": [
    "!python -V"
   ]
  },
  {
   "cell_type": "code",
   "execution_count": 1,
   "id": "0a98cd55-2c18-4a21-b6ce-764b4ccbe3c7",
   "metadata": {},
   "outputs": [
    {
     "name": "stderr",
     "output_type": "stream",
     "text": [
      "2024-12-06 19:32:44.488688: E external/local_xla/xla/stream_executor/cuda/cuda_fft.cc:477] Unable to register cuFFT factory: Attempting to register factory for plugin cuFFT when one has already been registered\n",
      "WARNING: All log messages before absl::InitializeLog() is called are written to STDERR\n",
      "E0000 00:00:1733531565.514997   16062 cuda_dnn.cc:8310] Unable to register cuDNN factory: Attempting to register factory for plugin cuDNN when one has already been registered\n",
      "E0000 00:00:1733531565.782370   16062 cuda_blas.cc:1418] Unable to register cuBLAS factory: Attempting to register factory for plugin cuBLAS when one has already been registered\n",
      "2024-12-06 19:32:48.384532: I tensorflow/core/platform/cpu_feature_guard.cc:210] This TensorFlow binary is optimized to use available CPU instructions in performance-critical operations.\n",
      "To enable the following instructions: AVX2 FMA, in other operations, rebuild TensorFlow with the appropriate compiler flags.\n"
     ]
    },
    {
     "name": "stdout",
     "output_type": "stream",
     "text": [
      "Num GPUs Available:  [PhysicalDevice(name='/physical_device:GPU:0', device_type='GPU'), PhysicalDevice(name='/physical_device:GPU:1', device_type='GPU')]\n",
      "CPU times: user 5.08 s, sys: 1.98 s, total: 7.07 s\n",
      "Wall time: 58.1 s\n"
     ]
    }
   ],
   "source": [
    "%%time\n",
    "# imports\n",
    "import os\n",
    "import time\n",
    "from PIL import Image\n",
    "import numpy as np\n",
    "from sklearn.model_selection import train_test_split\n",
    "import joblib\n",
    "from sklearn.preprocessing import LabelBinarizer\n",
    "from tensorflow.keras import layers, models, Input\n",
    "import tensorflow as tf\n",
    "\n",
    "print(\"Num GPUs Available: \", tf.config.list_physical_devices('GPU'))"
   ]
  },
  {
   "cell_type": "code",
   "execution_count": null,
   "id": "8c241d70-9626-4d16-8f9d-3215e67b54b9",
   "metadata": {},
   "outputs": [],
   "source": [
    "# %%time\n",
    "# # read in data and preprocess\n",
    "# images_path = './data/archive3/ASL_Alphabet_Dataset/asl_alphabet_train/'\n",
    "# images = []\n",
    "\n",
    "# for directory in os.listdir(images_path):\n",
    "#     count = 0\n",
    "#     for file in os.listdir(images_path+directory):\n",
    "#         file_path = images_path+directory+'/'+file\n",
    "#         image = Image.open(file_path)\n",
    "#         image = image.convert('L') # convert to grayscale\n",
    "#         image = image.resize((128, 128)) # resize\n",
    "#         # image.save('./data/resized/'+file) # uncomment to save the resized image\n",
    "#         image = np.array(image) # convert to array\n",
    "#         image = image / 255.0 # normalize\n",
    "#         image = image.astype(np.float32)\n",
    "#         if count % 1000 == 0:\n",
    "#             images.append((directory, image))\n",
    "#         count = count + 1\n",
    "\n",
    "# x = [image[1] for image in images]\n",
    "# y = [image[0] for image in images]"
   ]
  },
  {
   "cell_type": "code",
   "execution_count": null,
   "id": "8df14461-a73c-4088-8bf8-b5d3522b848a",
   "metadata": {},
   "outputs": [],
   "source": [
    "# %%time\n",
    "# x_train, x_test, y_train, y_test = train_test_split(x, y, test_size=0.2, random_state=0)\n",
    "\n",
    "# x_train = np.array(x_train)\n",
    "# x_test = np.array(x_test)\n",
    "\n",
    "\n",
    "# # binarize the labels\n",
    "# label_binarizer = LabelBinarizer()\n",
    "# y_train = label_binarizer.fit_transform(y_train)\n",
    "# y_test = label_binarizer.transform(y_test)\n",
    "\n",
    "# print(x_train.shape)\n",
    "# print(y_train.shape)\n",
    "# print(x_test.shape)\n",
    "# print(y_test.shape)"
   ]
  },
  {
   "cell_type": "code",
   "execution_count": null,
   "id": "e67fc6e8-6147-4b37-b099-8e1c4d73f0ca",
   "metadata": {},
   "outputs": [],
   "source": [
    "# x_train_memmap = np.memmap('x_train_memmap.dat', dtype=x_train.dtype, mode='w+', shape=x_train.shape)\n",
    "# y_train_memmap = np.memmap('y_train_memmap.dat', dtype=y_train.dtype, mode='w+', shape=y_train.shape)\n",
    "# x_test_memmap = np.memmap('x_test_memmap.dat', dtype=x_test.dtype, mode='w+', shape=x_test.shape)\n",
    "# y_test_memmap = np.memmap('y_test_memmap.dat', dtype=y_test.dtype, mode='w+', shape=y_test.shape)\n",
    "\n",
    "# x_train_memmap[:] = x_train\n",
    "# y_train_memmap[:] = y_train\n",
    "# x_test_memmap[:] = x_test\n",
    "# y_test_memmap[:] = y_test\n",
    "\n",
    "# x_train_memmap.flush()\n",
    "# y_train_memmap.flush()\n",
    "# x_test_memmap.flush()\n",
    "# y_test_memmap.flush()"
   ]
  },
  {
   "cell_type": "code",
   "execution_count": null,
   "id": "12682b76-551b-44d4-808d-0f0e20db2457",
   "metadata": {},
   "outputs": [],
   "source": [
    "# x_train = np.memmap('x_train_memmap.dat', dtype=np.float32, mode='r', shape=(178459, 128, 128))\n",
    "# y_train = np.memmap('y_train_memmap.dat', dtype=np.float32, mode='r', shape=(178459, 29))\n",
    "# x_test = np.memmap('x_test_memmap.dat', dtype=np.float32, mode='r', shape=(44615, 128, 128))\n",
    "# y_test = np.memmap('y_test_memmap.dat', dtype=np.float32, mode='r', shape=(44615, 29))\n",
    "\n",
    "# train_dataset = tf.data.Dataset.from_tensor_slices((x_train, y_train))\n",
    "# test_dataset = tf.data.Dataset.from_tensor_slices((x_test, y_test))"
   ]
  },
  {
   "cell_type": "code",
   "execution_count": 8,
   "id": "fef60268-5b9b-4e31-a762-1dfbb90d2d5e",
   "metadata": {},
   "outputs": [],
   "source": [
    "# x_train = np.memmap('x_train_memmap.dat', dtype=np.float32, mode='r', shape=(178459, 128, 128))\n",
    "# y_train = np.memmap('y_train_memmap.dat', dtype=np.float32, mode='r', shape=(178459, 29))\n",
    "# x_test = np.memmap('x_test_memmap.dat', dtype=np.float32, mode='r', shape=(44615, 128, 128))\n",
    "# y_test = np.memmap('y_test_memmap.dat', dtype=np.float32, mode='r', shape=(44615, 29))\n",
    "# \n",
    "# rat = 20\n",
    "# x_train = x_train[:len(x_train)//rat]\n",
    "# y_train = y_train[:len(y_train)//rat]\n",
    "# x_test = x_test[:len(x_test)//rat]\n",
    "# y_test = y_test[:len(y_test)//rat]\n",
    "# print(len(x_train))\n",
    "# print(len(x_test))"
   ]
  },
  {
   "cell_type": "code",
   "execution_count": 2,
   "id": "c752ece0-f904-45a0-a849-d8f135022d44",
   "metadata": {},
   "outputs": [
    {
     "name": "stderr",
     "output_type": "stream",
     "text": [
      "I0000 00:00:1733531604.773513   16062 gpu_device.cc:2022] Created device /job:localhost/replica:0/task:0/device:GPU:0 with 9711 MB memory:  -> device: 0, name: NVIDIA GeForce RTX 3060, pci bus id: 0000:02:00.0, compute capability: 8.6\n",
      "I0000 00:00:1733531604.778188   16062 gpu_device.cc:2022] Created device /job:localhost/replica:0/task:0/device:GPU:1 with 6692 MB memory:  -> device: 1, name: NVIDIA GeForce GTX 1070 Ti, pci bus id: 0000:01:00.0, compute capability: 6.1\n"
     ]
    }
   ],
   "source": [
    "x_train = np.memmap('x_train_memmap.dat', dtype=np.float32, mode='r', shape=(178459, 128, 128))\n",
    "y_train = np.memmap('y_train_memmap.dat', dtype=np.float32, mode='r', shape=(178459, 29))\n",
    "x_test = np.memmap('x_test_memmap.dat', dtype=np.float32, mode='r', shape=(44615, 128, 128))\n",
    "y_test = np.memmap('y_test_memmap.dat', dtype=np.float32, mode='r', shape=(44615, 29))\n",
    "\n",
    "def memmap_generator(x_memmap, y_memmap):\n",
    "    for i in range(len(x_memmap)):\n",
    "        yield x_memmap[i], y_memmap[i]\n",
    "\n",
    "train_dataset = tf.data.Dataset.from_generator(\n",
    "    lambda: memmap_generator(x_train, y_train),\n",
    "    output_signature=(\n",
    "        tf.TensorSpec(shape=(128, 128), dtype=tf.float32),\n",
    "        tf.TensorSpec(shape=(29,), dtype=tf.float32)\n",
    "    )\n",
    ")\n",
    "\n",
    "test_dataset = tf.data.Dataset.from_generator(\n",
    "    lambda: memmap_generator(x_test, y_test),\n",
    "    output_signature=(\n",
    "        tf.TensorSpec(shape=(128, 128), dtype=tf.float32),\n",
    "        tf.TensorSpec(shape=(29,), dtype=tf.float32)\n",
    "    )\n",
    ")\n",
    "\n",
    "train_dataset = (\n",
    "    train_dataset\n",
    "    .map(lambda x, y: (tf.expand_dims(x, axis=-1), y))\n",
    "    .shuffle(buffer_size=1000)\n",
    "    .batch(128)\n",
    "    .prefetch(tf.data.experimental.AUTOTUNE)\n",
    ")\n",
    "\n",
    "test_dataset = (\n",
    "    test_dataset\n",
    "    .map(lambda x, y: (tf.expand_dims(x, axis=-1), y))\n",
    "    .batch(128)\n",
    "    .prefetch(tf.data.experimental.AUTOTUNE)\n",
    ")\n",
    "\n",
    "train_dataset = train_dataset.map(lambda x, y: (x, tf.cast(y, tf.float32)))\n",
    "test_dataset = test_dataset.map(lambda x, y: (x, tf.cast(y, tf.float32)))\n",
    "\n",
    "\n"
   ]
  },
  {
   "cell_type": "code",
   "execution_count": null,
   "id": "f699b21e-598c-43f1-8d58-017c5e900c84",
   "metadata": {},
   "outputs": [],
   "source": [
    "# os.environ[\"CUDA_VISIBLE_DEVICES\"] = \"0\"\n",
    "# tf.debugging.set_log_device_placement(True)"
   ]
  },
  {
   "cell_type": "code",
   "execution_count": 3,
   "id": "b3ae2861-2d3e-4842-ba12-87367adae74d",
   "metadata": {
    "scrolled": true
   },
   "outputs": [
    {
     "name": "stderr",
     "output_type": "stream",
     "text": [
      "/mnt/c/Users/John Califano/Desktop/AIProj/live_ASL_reader/wsl/lib/python3.12/site-packages/keras/src/layers/convolutional/base_conv.py:107: UserWarning: Do not pass an `input_shape`/`input_dim` argument to a layer. When using Sequential models, prefer using an `Input(shape)` object as the first layer in the model instead.\n",
      "  super().__init__(activity_regularizer=activity_regularizer, **kwargs)\n"
     ]
    },
    {
     "name": "stdout",
     "output_type": "stream",
     "text": [
      "CPU times: user 469 ms, sys: 207 ms, total: 677 ms\n",
      "Wall time: 2.51 s\n"
     ]
    }
   ],
   "source": [
    "%%time\n",
    "\n",
    "# strategy = tf.distribute.MirroredStrategy()\n",
    "# print('Number of devices: {}'.format(strategy.num_replicas_in_sync))\n",
    "# with strategy.scope():\n",
    "model = models.Sequential([\n",
    "    layers.Conv2D(10, (3, 3), activation='relu', input_shape=(128, 128, 1)),\n",
    "    layers.MaxPooling2D((2, 2)),\n",
    "    layers.Flatten(),\n",
    "    layers.Dense(128, activation='relu'),\n",
    "    layers.Dropout(0.5),\n",
    "    layers.Dense(29, activation='softmax')\n",
    "])\n",
    "            \n",
    "model.compile(optimizer='adam',\n",
    "                          loss='categorical_crossentropy',\n",
    "                          metrics=['accuracy'])\n",
    "\n",
    "# for layer in model.layers:\n",
    "#     print(layer.name, [w.dtype for w in layer.weights])"
   ]
  },
  {
   "cell_type": "code",
   "execution_count": null,
   "id": "ed67243c-9b5a-44da-8f2e-fe2c0c84e4b4",
   "metadata": {},
   "outputs": [],
   "source": [
    "%%time\n",
    "# with tf.device('/GPU:0'):\n",
    "history = model.fit(x_train, y_train, epochs=5, batch_size=128, validation_split=0.2)"
   ]
  },
  {
   "cell_type": "code",
   "execution_count": null,
   "id": "28562764-4783-474b-aaa3-a75eda2df1ea",
   "metadata": {},
   "outputs": [
    {
     "name": "stdout",
     "output_type": "stream",
     "text": [
      "Epoch 1/30\n"
     ]
    },
    {
     "name": "stderr",
     "output_type": "stream",
     "text": [
      "WARNING: All log messages before absl::InitializeLog() is called are written to STDERR\n",
      "I0000 00:00:1733531619.534842   16201 service.cc:148] XLA service 0x7fc1f400c0b0 initialized for platform CUDA (this does not guarantee that XLA will be used). Devices:\n",
      "I0000 00:00:1733531619.537555   16201 service.cc:156]   StreamExecutor device (0): NVIDIA GeForce RTX 3060, Compute Capability 8.6\n",
      "I0000 00:00:1733531619.537588   16201 service.cc:156]   StreamExecutor device (1): NVIDIA GeForce GTX 1070 Ti, Compute Capability 6.1\n",
      "2024-12-06 19:33:39.772615: I tensorflow/compiler/mlir/tensorflow/utils/dump_mlir_util.cc:268] disabling MLIR crash reproducer, set env var `MLIR_CRASH_REPRODUCER_DIRECTORY` to enable.\n",
      "I0000 00:00:1733531620.130800   16201 cuda_dnn.cc:529] Loaded cuDNN version 90300\n",
      "2024-12-06 19:33:41.006938: I external/local_xla/xla/stream_executor/cuda/cuda_asm_compiler.cc:397] ptxas warning : Registers are spilled to local memory in function 'gemm_fusion_dot_658', 16 bytes spill stores, 16 bytes spill loads\n",
      "\n"
     ]
    },
    {
     "name": "stdout",
     "output_type": "stream",
     "text": [
      "      1/Unknown \u001b[1m11s\u001b[0m 11s/step - accuracy: 0.0312 - loss: 2.8026e-45"
     ]
    },
    {
     "name": "stderr",
     "output_type": "stream",
     "text": [
      "I0000 00:00:1733531627.419946   16201 device_compiler.h:188] Compiled cluster using XLA!  This line is logged at most once for the lifetime of the process.\n"
     ]
    },
    {
     "name": "stdout",
     "output_type": "stream",
     "text": [
      "   1395/Unknown \u001b[1m482s\u001b[0m 338ms/step - accuracy: 0.0374 - loss: 3.4487e-41"
     ]
    },
    {
     "name": "stderr",
     "output_type": "stream",
     "text": [
      "2024-12-06 19:41:38.139794: I tensorflow/core/framework/local_rendezvous.cc:405] Local rendezvous is aborting with status: OUT_OF_RANGE: End of sequence\n",
      "\t [[{{node IteratorGetNext}}]]\n",
      "2024-12-06 19:41:38.139861: I tensorflow/core/framework/local_rendezvous.cc:424] Local rendezvous recv item cancelled. Key hash: 11981823494394289211\n",
      "2024-12-06 19:41:38.141783: I tensorflow/core/framework/local_rendezvous.cc:405] Local rendezvous is aborting with status: OUT_OF_RANGE: End of sequence\n",
      "\t [[{{node IteratorGetNext}}]]\n",
      "\t [[IteratorGetNext/_4]]\n",
      "/mnt/c/Users/John Califano/Desktop/AIProj/live_ASL_reader/wsl/lib/python3.12/site-packages/keras/src/trainers/epoch_iterator.py:151: UserWarning: Your input ran out of data; interrupting training. Make sure that your dataset or generator can generate at least `steps_per_epoch * epochs` batches. You may need to use the `.repeat()` function when building your dataset.\n",
      "  self._interrupted_warning()\n"
     ]
    },
    {
     "name": "stdout",
     "output_type": "stream",
     "text": [
      "\u001b[1m1395/1395\u001b[0m \u001b[32m━━━━━━━━━━━━━━━━━━━━\u001b[0m\u001b[37m\u001b[0m \u001b[1m602s\u001b[0m 424ms/step - accuracy: 0.0374 - loss: 3.4462e-41 - val_accuracy: 0.0180 - val_loss: 0.0000e+00\n",
      "Epoch 2/30\n"
     ]
    },
    {
     "name": "stderr",
     "output_type": "stream",
     "text": [
      "2024-12-06 19:43:38.011804: I tensorflow/core/framework/local_rendezvous.cc:405] Local rendezvous is aborting with status: OUT_OF_RANGE: End of sequence\n",
      "\t [[{{node IteratorGetNext}}]]\n",
      "\t [[IteratorGetNext/_4]]\n",
      "2024-12-06 19:43:38.011863: I tensorflow/core/framework/local_rendezvous.cc:424] Local rendezvous recv item cancelled. Key hash: 11981823494394289211\n",
      "2024-12-06 19:43:38.011890: I tensorflow/core/framework/local_rendezvous.cc:424] Local rendezvous recv item cancelled. Key hash: 6425893941402143907\n"
     ]
    },
    {
     "name": "stdout",
     "output_type": "stream",
     "text": [
      "\u001b[1m1391/1395\u001b[0m \u001b[32m━━━━━━━━━━━━━━━━━━━\u001b[0m\u001b[37m━\u001b[0m \u001b[1m1s\u001b[0m 343ms/step - accuracy: 0.0312 - loss: 3.0292e-41  "
     ]
    },
    {
     "name": "stderr",
     "output_type": "stream",
     "text": [
      "2024-12-06 19:51:38.219344: I tensorflow/core/framework/local_rendezvous.cc:424] Local rendezvous recv item cancelled. Key hash: 11981823494394289211\n",
      "2024-12-06 19:51:38.219409: I tensorflow/core/framework/local_rendezvous.cc:424] Local rendezvous recv item cancelled. Key hash: 6425893941402143907\n"
     ]
    },
    {
     "name": "stdout",
     "output_type": "stream",
     "text": [
      "\u001b[1m1395/1395\u001b[0m \u001b[32m━━━━━━━━━━━━━━━━━━━━\u001b[0m\u001b[37m\u001b[0m \u001b[1m598s\u001b[0m 426ms/step - accuracy: 0.0312 - loss: 3.0299e-41 - val_accuracy: 0.0172 - val_loss: 0.0000e+00\n",
      "Epoch 3/30\n"
     ]
    },
    {
     "name": "stderr",
     "output_type": "stream",
     "text": [
      "2024-12-06 19:53:35.815347: I tensorflow/core/framework/local_rendezvous.cc:405] Local rendezvous is aborting with status: OUT_OF_RANGE: End of sequence\n",
      "\t [[{{node IteratorGetNext}}]]\n",
      "\t [[IteratorGetNext/_4]]\n",
      "2024-12-06 19:53:35.815397: I tensorflow/core/framework/local_rendezvous.cc:424] Local rendezvous recv item cancelled. Key hash: 11981823494394289211\n",
      "2024-12-06 19:53:35.815430: I tensorflow/core/framework/local_rendezvous.cc:424] Local rendezvous recv item cancelled. Key hash: 6425893941402143907\n"
     ]
    },
    {
     "name": "stdout",
     "output_type": "stream",
     "text": [
      "\u001b[1m1392/1395\u001b[0m \u001b[32m━━━━━━━━━━━━━━━━━━━\u001b[0m\u001b[37m━\u001b[0m \u001b[1m1s\u001b[0m 342ms/step - accuracy: 0.0311 - loss: 7.5478e-41  "
     ]
    },
    {
     "name": "stderr",
     "output_type": "stream",
     "text": [
      "2024-12-06 20:01:35.154392: I tensorflow/core/framework/local_rendezvous.cc:424] Local rendezvous recv item cancelled. Key hash: 11981823494394289211\n",
      "2024-12-06 20:01:35.154473: I tensorflow/core/framework/local_rendezvous.cc:424] Local rendezvous recv item cancelled. Key hash: 6425893941402143907\n"
     ]
    },
    {
     "name": "stdout",
     "output_type": "stream",
     "text": [
      "\u001b[1m1395/1395\u001b[0m \u001b[32m━━━━━━━━━━━━━━━━━━━━\u001b[0m\u001b[37m\u001b[0m \u001b[1m596s\u001b[0m 425ms/step - accuracy: 0.0311 - loss: 7.5446e-41 - val_accuracy: 0.0175 - val_loss: 0.0000e+00\n",
      "Epoch 4/30\n"
     ]
    },
    {
     "name": "stderr",
     "output_type": "stream",
     "text": [
      "2024-12-06 20:03:32.048192: I tensorflow/core/framework/local_rendezvous.cc:424] Local rendezvous recv item cancelled. Key hash: 11981823494394289211\n",
      "2024-12-06 20:03:32.048250: I tensorflow/core/framework/local_rendezvous.cc:424] Local rendezvous recv item cancelled. Key hash: 6425893941402143907\n"
     ]
    },
    {
     "name": "stdout",
     "output_type": "stream",
     "text": [
      "\u001b[1m1392/1395\u001b[0m \u001b[32m━━━━━━━━━━━━━━━━━━━\u001b[0m\u001b[37m━\u001b[0m \u001b[1m1s\u001b[0m 338ms/step - accuracy: 0.0341 - loss: 1.2720e-40  "
     ]
    },
    {
     "name": "stderr",
     "output_type": "stream",
     "text": [
      "2024-12-06 20:11:25.447466: I tensorflow/core/framework/local_rendezvous.cc:424] Local rendezvous recv item cancelled. Key hash: 11981823494394289211\n",
      "2024-12-06 20:11:25.447525: I tensorflow/core/framework/local_rendezvous.cc:424] Local rendezvous recv item cancelled. Key hash: 6425893941402143907\n"
     ]
    },
    {
     "name": "stdout",
     "output_type": "stream",
     "text": [
      "\u001b[1m1395/1395\u001b[0m \u001b[32m━━━━━━━━━━━━━━━━━━━━\u001b[0m\u001b[37m\u001b[0m \u001b[1m589s\u001b[0m 421ms/step - accuracy: 0.0341 - loss: 1.2714e-40 - val_accuracy: 0.0177 - val_loss: 0.0000e+00\n",
      "Epoch 5/30\n"
     ]
    },
    {
     "name": "stderr",
     "output_type": "stream",
     "text": [
      "2024-12-06 20:13:21.172510: I tensorflow/core/framework/local_rendezvous.cc:405] Local rendezvous is aborting with status: OUT_OF_RANGE: End of sequence\n",
      "\t [[{{node IteratorGetNext}}]]\n",
      "\t [[IteratorGetNext/_4]]\n",
      "2024-12-06 20:13:21.172557: I tensorflow/core/framework/local_rendezvous.cc:424] Local rendezvous recv item cancelled. Key hash: 11981823494394289211\n",
      "2024-12-06 20:13:21.172585: I tensorflow/core/framework/local_rendezvous.cc:424] Local rendezvous recv item cancelled. Key hash: 6425893941402143907\n"
     ]
    },
    {
     "name": "stdout",
     "output_type": "stream",
     "text": [
      "\u001b[1m1391/1395\u001b[0m \u001b[32m━━━━━━━━━━━━━━━━━━━\u001b[0m\u001b[37m━\u001b[0m \u001b[1m1s\u001b[0m 338ms/step - accuracy: 0.0332 - loss: 1.8464e-40  "
     ]
    },
    {
     "name": "stderr",
     "output_type": "stream",
     "text": [
      "2024-12-06 20:21:14.200410: I tensorflow/core/framework/local_rendezvous.cc:424] Local rendezvous recv item cancelled. Key hash: 11981823494394289211\n",
      "2024-12-06 20:21:14.200476: I tensorflow/core/framework/local_rendezvous.cc:424] Local rendezvous recv item cancelled. Key hash: 6425893941402143907\n"
     ]
    },
    {
     "name": "stdout",
     "output_type": "stream",
     "text": [
      "\u001b[1m1395/1395\u001b[0m \u001b[32m━━━━━━━━━━━━━━━━━━━━\u001b[0m\u001b[37m\u001b[0m \u001b[1m588s\u001b[0m 420ms/step - accuracy: 0.0332 - loss: 1.8456e-40 - val_accuracy: 0.0180 - val_loss: 0.0000e+00\n",
      "Epoch 6/30\n"
     ]
    },
    {
     "name": "stderr",
     "output_type": "stream",
     "text": [
      "2024-12-06 20:23:09.578623: I tensorflow/core/framework/local_rendezvous.cc:424] Local rendezvous recv item cancelled. Key hash: 11981823494394289211\n",
      "2024-12-06 20:23:09.578692: I tensorflow/core/framework/local_rendezvous.cc:424] Local rendezvous recv item cancelled. Key hash: 6425893941402143907\n"
     ]
    },
    {
     "name": "stdout",
     "output_type": "stream",
     "text": [
      "\u001b[1m1391/1395\u001b[0m \u001b[32m━━━━━━━━━━━━━━━━━━━\u001b[0m\u001b[37m━\u001b[0m \u001b[1m1s\u001b[0m 341ms/step - accuracy: 0.0330 - loss: 2.5941e-40  "
     ]
    },
    {
     "name": "stderr",
     "output_type": "stream",
     "text": [
      "2024-12-06 20:31:06.167501: I tensorflow/core/framework/local_rendezvous.cc:424] Local rendezvous recv item cancelled. Key hash: 11981823494394289211\n",
      "2024-12-06 20:31:06.167567: I tensorflow/core/framework/local_rendezvous.cc:424] Local rendezvous recv item cancelled. Key hash: 6425893941402143907\n"
     ]
    },
    {
     "name": "stdout",
     "output_type": "stream",
     "text": [
      "\u001b[1m1395/1395\u001b[0m \u001b[32m━━━━━━━━━━━━━━━━━━━━\u001b[0m\u001b[37m\u001b[0m \u001b[1m599s\u001b[0m 427ms/step - accuracy: 0.0330 - loss: 2.5926e-40 - val_accuracy: 0.0175 - val_loss: 0.0000e+00\n",
      "Epoch 7/30\n"
     ]
    },
    {
     "name": "stderr",
     "output_type": "stream",
     "text": [
      "2024-12-06 20:33:08.220587: I tensorflow/core/framework/local_rendezvous.cc:424] Local rendezvous recv item cancelled. Key hash: 11981823494394289211\n",
      "2024-12-06 20:33:08.220648: I tensorflow/core/framework/local_rendezvous.cc:424] Local rendezvous recv item cancelled. Key hash: 6425893941402143907\n"
     ]
    },
    {
     "name": "stdout",
     "output_type": "stream",
     "text": [
      "\u001b[1m1395/1395\u001b[0m \u001b[32m━━━━━━━━━━━━━━━━━━━━\u001b[0m\u001b[37m\u001b[0m \u001b[1m0s\u001b[0m 341ms/step - accuracy: 0.0322 - loss: 3.4462e-40  "
     ]
    },
    {
     "name": "stderr",
     "output_type": "stream",
     "text": [
      "2024-12-06 20:41:07.225291: I tensorflow/core/framework/local_rendezvous.cc:424] Local rendezvous recv item cancelled. Key hash: 11981823494394289211\n",
      "2024-12-06 20:41:07.225351: I tensorflow/core/framework/local_rendezvous.cc:424] Local rendezvous recv item cancelled. Key hash: 6425893941402143907\n"
     ]
    },
    {
     "name": "stdout",
     "output_type": "stream",
     "text": [
      "\u001b[1m1395/1395\u001b[0m \u001b[32m━━━━━━━━━━━━━━━━━━━━\u001b[0m\u001b[37m\u001b[0m \u001b[1m596s\u001b[0m 425ms/step - accuracy: 0.0322 - loss: 3.4437e-40 - val_accuracy: 0.0168 - val_loss: 0.0000e+00\n",
      "Epoch 8/30\n"
     ]
    },
    {
     "name": "stderr",
     "output_type": "stream",
     "text": [
      "2024-12-06 20:43:04.178179: I tensorflow/core/framework/local_rendezvous.cc:424] Local rendezvous recv item cancelled. Key hash: 11981823494394289211\n",
      "2024-12-06 20:43:04.178240: I tensorflow/core/framework/local_rendezvous.cc:424] Local rendezvous recv item cancelled. Key hash: 6425893941402143907\n"
     ]
    },
    {
     "name": "stdout",
     "output_type": "stream",
     "text": [
      "\u001b[1m1392/1395\u001b[0m \u001b[32m━━━━━━━━━━━━━━━━━━━\u001b[0m\u001b[37m━\u001b[0m \u001b[1m1s\u001b[0m 341ms/step - accuracy: 0.0336 - loss: 4.0751e-40  "
     ]
    },
    {
     "name": "stderr",
     "output_type": "stream",
     "text": [
      "2024-12-06 20:51:01.553558: I tensorflow/core/framework/local_rendezvous.cc:424] Local rendezvous recv item cancelled. Key hash: 11981823494394289211\n",
      "2024-12-06 20:51:01.553622: I tensorflow/core/framework/local_rendezvous.cc:424] Local rendezvous recv item cancelled. Key hash: 6425893941402143907\n"
     ]
    },
    {
     "name": "stdout",
     "output_type": "stream",
     "text": [
      "\u001b[1m1395/1395\u001b[0m \u001b[32m━━━━━━━━━━━━━━━━━━━━\u001b[0m\u001b[37m\u001b[0m \u001b[1m595s\u001b[0m 425ms/step - accuracy: 0.0336 - loss: 4.0730e-40 - val_accuracy: 0.0189 - val_loss: 0.0000e+00\n",
      "Epoch 9/30\n"
     ]
    },
    {
     "name": "stderr",
     "output_type": "stream",
     "text": [
      "2024-12-06 20:52:59.111713: I tensorflow/core/framework/local_rendezvous.cc:405] Local rendezvous is aborting with status: OUT_OF_RANGE: End of sequence\n",
      "\t [[{{node IteratorGetNext}}]]\n",
      "\t [[IteratorGetNext/_4]]\n",
      "2024-12-06 20:52:59.111756: I tensorflow/core/framework/local_rendezvous.cc:424] Local rendezvous recv item cancelled. Key hash: 11981823494394289211\n",
      "2024-12-06 20:52:59.111784: I tensorflow/core/framework/local_rendezvous.cc:424] Local rendezvous recv item cancelled. Key hash: 6425893941402143907\n"
     ]
    },
    {
     "name": "stdout",
     "output_type": "stream",
     "text": [
      "\u001b[1m1393/1395\u001b[0m \u001b[32m━━━━━━━━━━━━━━━━━━━\u001b[0m\u001b[37m━\u001b[0m \u001b[1m0s\u001b[0m 335ms/step - accuracy: 0.0327 - loss: 5.0293e-40  "
     ]
    },
    {
     "name": "stderr",
     "output_type": "stream",
     "text": [
      "2024-12-06 21:00:48.400772: I tensorflow/core/framework/local_rendezvous.cc:424] Local rendezvous recv item cancelled. Key hash: 11981823494394289211\n",
      "2024-12-06 21:00:48.400834: I tensorflow/core/framework/local_rendezvous.cc:424] Local rendezvous recv item cancelled. Key hash: 6425893941402143907\n"
     ]
    },
    {
     "name": "stdout",
     "output_type": "stream",
     "text": [
      "\u001b[1m1395/1395\u001b[0m \u001b[32m━━━━━━━━━━━━━━━━━━━━\u001b[0m\u001b[37m\u001b[0m \u001b[1m586s\u001b[0m 418ms/step - accuracy: 0.0327 - loss: 5.0261e-40 - val_accuracy: 0.0181 - val_loss: 0.0000e+00\n",
      "Epoch 10/30\n"
     ]
    },
    {
     "name": "stderr",
     "output_type": "stream",
     "text": [
      "2024-12-06 21:02:45.013988: I tensorflow/core/framework/local_rendezvous.cc:424] Local rendezvous recv item cancelled. Key hash: 11981823494394289211\n",
      "2024-12-06 21:02:45.014049: I tensorflow/core/framework/local_rendezvous.cc:424] Local rendezvous recv item cancelled. Key hash: 6425893941402143907\n"
     ]
    },
    {
     "name": "stdout",
     "output_type": "stream",
     "text": [
      "\u001b[1m1392/1395\u001b[0m \u001b[32m━━━━━━━━━━━━━━━━━━━\u001b[0m\u001b[37m━\u001b[0m \u001b[1m1s\u001b[0m 335ms/step - accuracy: 0.0347 - loss: 6.0789e-40  "
     ]
    },
    {
     "name": "stderr",
     "output_type": "stream",
     "text": [
      "2024-12-06 21:10:34.628159: I tensorflow/core/framework/local_rendezvous.cc:424] Local rendezvous recv item cancelled. Key hash: 11981823494394289211\n",
      "2024-12-06 21:10:34.628220: I tensorflow/core/framework/local_rendezvous.cc:424] Local rendezvous recv item cancelled. Key hash: 6425893941402143907\n"
     ]
    },
    {
     "name": "stdout",
     "output_type": "stream",
     "text": [
      "\u001b[1m1395/1395\u001b[0m \u001b[32m━━━━━━━━━━━━━━━━━━━━\u001b[0m\u001b[37m\u001b[0m \u001b[1m585s\u001b[0m 418ms/step - accuracy: 0.0347 - loss: 6.0752e-40 - val_accuracy: 0.0170 - val_loss: 0.0000e+00\n",
      "Epoch 11/30\n"
     ]
    },
    {
     "name": "stderr",
     "output_type": "stream",
     "text": [
      "2024-12-06 21:12:30.320154: I tensorflow/core/framework/local_rendezvous.cc:424] Local rendezvous recv item cancelled. Key hash: 11981823494394289211\n",
      "2024-12-06 21:12:30.320215: I tensorflow/core/framework/local_rendezvous.cc:424] Local rendezvous recv item cancelled. Key hash: 6425893941402143907\n"
     ]
    },
    {
     "name": "stdout",
     "output_type": "stream",
     "text": [
      "\u001b[1m1392/1395\u001b[0m \u001b[32m━━━━━━━━━━━━━━━━━━━\u001b[0m\u001b[37m━\u001b[0m \u001b[1m1s\u001b[0m 335ms/step - accuracy: 0.0325 - loss: 7.2813e-40  "
     ]
    },
    {
     "name": "stderr",
     "output_type": "stream",
     "text": [
      "2024-12-06 21:20:20.029672: I tensorflow/core/framework/local_rendezvous.cc:424] Local rendezvous recv item cancelled. Key hash: 11981823494394289211\n",
      "2024-12-06 21:20:20.029736: I tensorflow/core/framework/local_rendezvous.cc:424] Local rendezvous recv item cancelled. Key hash: 6425893941402143907\n"
     ]
    },
    {
     "name": "stdout",
     "output_type": "stream",
     "text": [
      "\u001b[1m1395/1395\u001b[0m \u001b[32m━━━━━━━━━━━━━━━━━━━━\u001b[0m\u001b[37m\u001b[0m \u001b[1m585s\u001b[0m 418ms/step - accuracy: 0.0325 - loss: 7.2767e-40 - val_accuracy: 0.0180 - val_loss: 0.0000e+00\n",
      "Epoch 12/30\n"
     ]
    },
    {
     "name": "stderr",
     "output_type": "stream",
     "text": [
      "2024-12-06 21:22:15.770297: I tensorflow/core/framework/local_rendezvous.cc:424] Local rendezvous recv item cancelled. Key hash: 11981823494394289211\n",
      "2024-12-06 21:22:15.770356: I tensorflow/core/framework/local_rendezvous.cc:424] Local rendezvous recv item cancelled. Key hash: 6425893941402143907\n"
     ]
    },
    {
     "name": "stdout",
     "output_type": "stream",
     "text": [
      "\u001b[1m1393/1395\u001b[0m \u001b[32m━━━━━━━━━━━━━━━━━━━\u001b[0m\u001b[37m━\u001b[0m \u001b[1m0s\u001b[0m 336ms/step - accuracy: 0.0340 - loss: 8.4675e-40  "
     ]
    },
    {
     "name": "stderr",
     "output_type": "stream",
     "text": [
      "2024-12-06 21:30:06.402884: I tensorflow/core/framework/local_rendezvous.cc:424] Local rendezvous recv item cancelled. Key hash: 11981823494394289211\n",
      "2024-12-06 21:30:06.402945: I tensorflow/core/framework/local_rendezvous.cc:424] Local rendezvous recv item cancelled. Key hash: 6425893941402143907\n"
     ]
    },
    {
     "name": "stdout",
     "output_type": "stream",
     "text": [
      "\u001b[1m1395/1395\u001b[0m \u001b[32m━━━━━━━━━━━━━━━━━━━━\u001b[0m\u001b[37m\u001b[0m \u001b[1m586s\u001b[0m 418ms/step - accuracy: 0.0340 - loss: 8.4618e-40 - val_accuracy: 0.0173 - val_loss: 0.0000e+00\n",
      "Epoch 13/30\n"
     ]
    },
    {
     "name": "stderr",
     "output_type": "stream",
     "text": [
      "2024-12-06 21:32:01.292143: I tensorflow/core/framework/local_rendezvous.cc:424] Local rendezvous recv item cancelled. Key hash: 11981823494394289211\n",
      "2024-12-06 21:32:01.292211: I tensorflow/core/framework/local_rendezvous.cc:424] Local rendezvous recv item cancelled. Key hash: 6425893941402143907\n"
     ]
    },
    {
     "name": "stdout",
     "output_type": "stream",
     "text": [
      "\u001b[1m1391/1395\u001b[0m \u001b[32m━━━━━━━━━━━━━━━━━━━\u001b[0m\u001b[37m━\u001b[0m \u001b[1m1s\u001b[0m 337ms/step - accuracy: 0.0350 - loss: 9.7228e-40  "
     ]
    },
    {
     "name": "stderr",
     "output_type": "stream",
     "text": [
      "2024-12-06 21:39:52.969458: I tensorflow/core/framework/local_rendezvous.cc:424] Local rendezvous recv item cancelled. Key hash: 11981823494394289211\n",
      "2024-12-06 21:39:52.969518: I tensorflow/core/framework/local_rendezvous.cc:424] Local rendezvous recv item cancelled. Key hash: 6425893941402143907\n"
     ]
    },
    {
     "name": "stdout",
     "output_type": "stream",
     "text": [
      "\u001b[1m1395/1395\u001b[0m \u001b[32m━━━━━━━━━━━━━━━━━━━━\u001b[0m\u001b[37m\u001b[0m \u001b[1m588s\u001b[0m 419ms/step - accuracy: 0.0350 - loss: 9.7164e-40 - val_accuracy: 0.0168 - val_loss: 0.0000e+00\n",
      "Epoch 14/30\n"
     ]
    },
    {
     "name": "stderr",
     "output_type": "stream",
     "text": [
      "2024-12-06 21:41:48.861794: I tensorflow/core/framework/local_rendezvous.cc:424] Local rendezvous recv item cancelled. Key hash: 11981823494394289211\n",
      "2024-12-06 21:41:48.861850: I tensorflow/core/framework/local_rendezvous.cc:424] Local rendezvous recv item cancelled. Key hash: 6425893941402143907\n"
     ]
    },
    {
     "name": "stdout",
     "output_type": "stream",
     "text": [
      "\u001b[1m1395/1395\u001b[0m \u001b[32m━━━━━━━━━━━━━━━━━━━━\u001b[0m\u001b[37m\u001b[0m \u001b[1m0s\u001b[0m 335ms/step - accuracy: 0.0353 - loss: 1.1190e-39  "
     ]
    },
    {
     "name": "stderr",
     "output_type": "stream",
     "text": [
      "2024-12-06 21:49:39.621902: I tensorflow/core/framework/local_rendezvous.cc:424] Local rendezvous recv item cancelled. Key hash: 11981823494394289211\n",
      "2024-12-06 21:49:39.621966: I tensorflow/core/framework/local_rendezvous.cc:424] Local rendezvous recv item cancelled. Key hash: 6425893941402143907\n"
     ]
    },
    {
     "name": "stdout",
     "output_type": "stream",
     "text": [
      "\u001b[1m1395/1395\u001b[0m \u001b[32m━━━━━━━━━━━━━━━━━━━━\u001b[0m\u001b[37m\u001b[0m \u001b[1m587s\u001b[0m 419ms/step - accuracy: 0.0353 - loss: 1.1182e-39 - val_accuracy: 0.0188 - val_loss: 0.0000e+00\n",
      "Epoch 15/30\n"
     ]
    },
    {
     "name": "stderr",
     "output_type": "stream",
     "text": [
      "2024-12-06 21:51:36.255932: I tensorflow/core/framework/local_rendezvous.cc:424] Local rendezvous recv item cancelled. Key hash: 11981823494394289211\n",
      "2024-12-06 21:51:36.255992: I tensorflow/core/framework/local_rendezvous.cc:424] Local rendezvous recv item cancelled. Key hash: 6425893941402143907\n"
     ]
    },
    {
     "name": "stdout",
     "output_type": "stream",
     "text": [
      "\u001b[1m1391/1395\u001b[0m \u001b[32m━━━━━━━━━━━━━━━━━━━\u001b[0m\u001b[37m━\u001b[0m \u001b[1m1s\u001b[0m 338ms/step - accuracy: 0.0348 - loss: 1.2632e-39  "
     ]
    },
    {
     "name": "stderr",
     "output_type": "stream",
     "text": [
      "2024-12-06 21:59:29.432538: I tensorflow/core/framework/local_rendezvous.cc:424] Local rendezvous recv item cancelled. Key hash: 11981823494394289211\n",
      "2024-12-06 21:59:29.432601: I tensorflow/core/framework/local_rendezvous.cc:424] Local rendezvous recv item cancelled. Key hash: 6425893941402143907\n"
     ]
    },
    {
     "name": "stdout",
     "output_type": "stream",
     "text": [
      "\u001b[1m1395/1395\u001b[0m \u001b[32m━━━━━━━━━━━━━━━━━━━━\u001b[0m\u001b[37m\u001b[0m \u001b[1m593s\u001b[0m 423ms/step - accuracy: 0.0348 - loss: 1.2624e-39 - val_accuracy: 0.0180 - val_loss: 0.0000e+00\n",
      "Epoch 16/30\n"
     ]
    },
    {
     "name": "stderr",
     "output_type": "stream",
     "text": [
      "2024-12-06 22:01:29.168902: I tensorflow/core/framework/local_rendezvous.cc:424] Local rendezvous recv item cancelled. Key hash: 11981823494394289211\n",
      "2024-12-06 22:01:29.168961: I tensorflow/core/framework/local_rendezvous.cc:424] Local rendezvous recv item cancelled. Key hash: 6425893941402143907\n"
     ]
    },
    {
     "name": "stdout",
     "output_type": "stream",
     "text": [
      "\u001b[1m1392/1395\u001b[0m \u001b[32m━━━━━━━━━━━━━━━━━━━\u001b[0m\u001b[37m━\u001b[0m \u001b[1m1s\u001b[0m 341ms/step - accuracy: 0.0349 - loss: 1.3914e-39  "
     ]
    },
    {
     "name": "stderr",
     "output_type": "stream",
     "text": [
      "2024-12-06 22:09:26.365384: I tensorflow/core/framework/local_rendezvous.cc:424] Local rendezvous recv item cancelled. Key hash: 11981823494394289211\n",
      "2024-12-06 22:09:26.365464: I tensorflow/core/framework/local_rendezvous.cc:424] Local rendezvous recv item cancelled. Key hash: 6425893941402143907\n"
     ]
    },
    {
     "name": "stdout",
     "output_type": "stream",
     "text": [
      "\u001b[1m1395/1395\u001b[0m \u001b[32m━━━━━━━━━━━━━━━━━━━━\u001b[0m\u001b[37m\u001b[0m \u001b[1m597s\u001b[0m 426ms/step - accuracy: 0.0349 - loss: 1.3905e-39 - val_accuracy: 0.0180 - val_loss: 0.0000e+00\n",
      "Epoch 17/30\n"
     ]
    },
    {
     "name": "stderr",
     "output_type": "stream",
     "text": [
      "2024-12-06 22:11:26.544036: I tensorflow/core/framework/local_rendezvous.cc:405] Local rendezvous is aborting with status: OUT_OF_RANGE: End of sequence\n",
      "\t [[{{node IteratorGetNext}}]]\n",
      "\t [[IteratorGetNext/_4]]\n",
      "2024-12-06 22:11:26.544080: I tensorflow/core/framework/local_rendezvous.cc:424] Local rendezvous recv item cancelled. Key hash: 11981823494394289211\n",
      "2024-12-06 22:11:26.544105: I tensorflow/core/framework/local_rendezvous.cc:424] Local rendezvous recv item cancelled. Key hash: 6425893941402143907\n"
     ]
    },
    {
     "name": "stdout",
     "output_type": "stream",
     "text": [
      "\u001b[1m1393/1395\u001b[0m \u001b[32m━━━━━━━━━━━━━━━━━━━\u001b[0m\u001b[37m━\u001b[0m \u001b[1m0s\u001b[0m 341ms/step - accuracy: 0.0349 - loss: 1.5935e-39  "
     ]
    },
    {
     "name": "stderr",
     "output_type": "stream",
     "text": [
      "2024-12-06 22:19:24.477438: I tensorflow/core/framework/local_rendezvous.cc:424] Local rendezvous recv item cancelled. Key hash: 11981823494394289211\n",
      "2024-12-06 22:19:24.477535: I tensorflow/core/framework/local_rendezvous.cc:424] Local rendezvous recv item cancelled. Key hash: 6425893941402143907\n"
     ]
    },
    {
     "name": "stdout",
     "output_type": "stream",
     "text": [
      "\u001b[1m1395/1395\u001b[0m \u001b[32m━━━━━━━━━━━━━━━━━━━━\u001b[0m\u001b[37m\u001b[0m \u001b[1m592s\u001b[0m 422ms/step - accuracy: 0.0349 - loss: 1.5924e-39 - val_accuracy: 0.0180 - val_loss: 0.0000e+00\n",
      "Epoch 18/30\n"
     ]
    },
    {
     "name": "stderr",
     "output_type": "stream",
     "text": [
      "2024-12-06 22:21:18.376244: I tensorflow/core/framework/local_rendezvous.cc:424] Local rendezvous recv item cancelled. Key hash: 11981823494394289211\n",
      "2024-12-06 22:21:18.376304: I tensorflow/core/framework/local_rendezvous.cc:424] Local rendezvous recv item cancelled. Key hash: 6425893941402143907\n"
     ]
    },
    {
     "name": "stdout",
     "output_type": "stream",
     "text": [
      "\u001b[1m1392/1395\u001b[0m \u001b[32m━━━━━━━━━━━━━━━━━━━\u001b[0m\u001b[37m━\u001b[0m \u001b[1m1s\u001b[0m 346ms/step - accuracy: 0.0349 - loss: 1.6674e-39  "
     ]
    },
    {
     "name": "stderr",
     "output_type": "stream",
     "text": [
      "2024-12-06 22:29:23.211122: I tensorflow/core/framework/local_rendezvous.cc:424] Local rendezvous recv item cancelled. Key hash: 11981823494394289211\n",
      "2024-12-06 22:29:23.211185: I tensorflow/core/framework/local_rendezvous.cc:424] Local rendezvous recv item cancelled. Key hash: 6425893941402143907\n"
     ]
    },
    {
     "name": "stdout",
     "output_type": "stream",
     "text": [
      "\u001b[1m1395/1395\u001b[0m \u001b[32m━━━━━━━━━━━━━━━━━━━━\u001b[0m\u001b[37m\u001b[0m \u001b[1m605s\u001b[0m 431ms/step - accuracy: 0.0349 - loss: 1.6663e-39 - val_accuracy: 0.0192 - val_loss: 0.0000e+00\n",
      "Epoch 19/30\n"
     ]
    },
    {
     "name": "stderr",
     "output_type": "stream",
     "text": [
      "2024-12-06 22:31:23.004951: I tensorflow/core/framework/local_rendezvous.cc:424] Local rendezvous recv item cancelled. Key hash: 11981823494394289211\n",
      "2024-12-06 22:31:23.005009: I tensorflow/core/framework/local_rendezvous.cc:424] Local rendezvous recv item cancelled. Key hash: 6425893941402143907\n"
     ]
    },
    {
     "name": "stdout",
     "output_type": "stream",
     "text": [
      "\u001b[1m1395/1395\u001b[0m \u001b[32m━━━━━━━━━━━━━━━━━━━━\u001b[0m\u001b[37m\u001b[0m \u001b[1m0s\u001b[0m 344ms/step - accuracy: 0.0356 - loss: 1.8813e-39  "
     ]
    },
    {
     "name": "stderr",
     "output_type": "stream",
     "text": [
      "2024-12-06 22:39:26.190192: I tensorflow/core/framework/local_rendezvous.cc:424] Local rendezvous recv item cancelled. Key hash: 11981823494394289211\n",
      "2024-12-06 22:39:26.190252: I tensorflow/core/framework/local_rendezvous.cc:424] Local rendezvous recv item cancelled. Key hash: 6425893941402143907\n"
     ]
    },
    {
     "name": "stdout",
     "output_type": "stream",
     "text": [
      "\u001b[1m1395/1395\u001b[0m \u001b[32m━━━━━━━━━━━━━━━━━━━━\u001b[0m\u001b[37m\u001b[0m \u001b[1m601s\u001b[0m 429ms/step - accuracy: 0.0356 - loss: 1.8799e-39 - val_accuracy: 0.5185 - val_loss: 0.0000e+00\n",
      "Epoch 20/30\n"
     ]
    },
    {
     "name": "stderr",
     "output_type": "stream",
     "text": [
      "2024-12-06 22:41:24.494106: I tensorflow/core/framework/local_rendezvous.cc:424] Local rendezvous recv item cancelled. Key hash: 11981823494394289211\n",
      "2024-12-06 22:41:24.494165: I tensorflow/core/framework/local_rendezvous.cc:424] Local rendezvous recv item cancelled. Key hash: 6425893941402143907\n"
     ]
    },
    {
     "name": "stdout",
     "output_type": "stream",
     "text": [
      "\u001b[1m1395/1395\u001b[0m \u001b[32m━━━━━━━━━━━━━━━━━━━━\u001b[0m\u001b[37m\u001b[0m \u001b[1m0s\u001b[0m 348ms/step - accuracy: 0.0364 - loss: 2.0875e-39  "
     ]
    },
    {
     "name": "stderr",
     "output_type": "stream",
     "text": [
      "2024-12-06 22:49:33.053088: I tensorflow/core/framework/local_rendezvous.cc:424] Local rendezvous recv item cancelled. Key hash: 11981823494394289211\n",
      "2024-12-06 22:49:33.053147: I tensorflow/core/framework/local_rendezvous.cc:424] Local rendezvous recv item cancelled. Key hash: 6425893941402143907\n"
     ]
    },
    {
     "name": "stdout",
     "output_type": "stream",
     "text": [
      "\u001b[1m1395/1395\u001b[0m \u001b[32m━━━━━━━━━━━━━━━━━━━━\u001b[0m\u001b[37m\u001b[0m \u001b[1m609s\u001b[0m 435ms/step - accuracy: 0.0364 - loss: 2.0860e-39 - val_accuracy: 0.0181 - val_loss: 0.0000e+00\n",
      "Epoch 21/30\n"
     ]
    },
    {
     "name": "stderr",
     "output_type": "stream",
     "text": [
      "2024-12-06 22:51:33.354787: I tensorflow/core/framework/local_rendezvous.cc:424] Local rendezvous recv item cancelled. Key hash: 11981823494394289211\n",
      "2024-12-06 22:51:33.354846: I tensorflow/core/framework/local_rendezvous.cc:424] Local rendezvous recv item cancelled. Key hash: 6425893941402143907\n"
     ]
    },
    {
     "name": "stdout",
     "output_type": "stream",
     "text": [
      "\u001b[1m1395/1395\u001b[0m \u001b[32m━━━━━━━━━━━━━━━━━━━━\u001b[0m\u001b[37m\u001b[0m \u001b[1m0s\u001b[0m 351ms/step - accuracy: 0.0361 - loss: 2.3911e-39  "
     ]
    },
    {
     "name": "stderr",
     "output_type": "stream",
     "text": [
      "2024-12-06 22:59:45.264524: I tensorflow/core/framework/local_rendezvous.cc:424] Local rendezvous recv item cancelled. Key hash: 11981823494394289211\n"
     ]
    },
    {
     "name": "stdout",
     "output_type": "stream",
     "text": [
      "\u001b[1m1395/1395\u001b[0m \u001b[32m━━━━━━━━━━━━━━━━━━━━\u001b[0m\u001b[37m\u001b[0m \u001b[1m611s\u001b[0m 436ms/step - accuracy: 0.0361 - loss: 2.3893e-39 - val_accuracy: 0.0171 - val_loss: 0.0000e+00\n",
      "Epoch 22/30\n"
     ]
    },
    {
     "name": "stderr",
     "output_type": "stream",
     "text": [
      "2024-12-06 23:01:44.249639: I tensorflow/core/framework/local_rendezvous.cc:424] Local rendezvous recv item cancelled. Key hash: 11981823494394289211\n",
      "2024-12-06 23:01:44.249699: I tensorflow/core/framework/local_rendezvous.cc:424] Local rendezvous recv item cancelled. Key hash: 6425893941402143907\n"
     ]
    },
    {
     "name": "stdout",
     "output_type": "stream",
     "text": [
      "\u001b[1m1394/1395\u001b[0m \u001b[32m━━━━━━━━━━━━━━━━━━━\u001b[0m\u001b[37m━\u001b[0m \u001b[1m0s\u001b[0m 350ms/step - accuracy: 0.0368 - loss: 2.4634e-39  "
     ]
    },
    {
     "name": "stderr",
     "output_type": "stream",
     "text": [
      "2024-12-06 23:09:55.450428: I tensorflow/core/framework/local_rendezvous.cc:424] Local rendezvous recv item cancelled. Key hash: 11981823494394289211\n",
      "2024-12-06 23:09:55.450491: I tensorflow/core/framework/local_rendezvous.cc:424] Local rendezvous recv item cancelled. Key hash: 6425893941402143907\n"
     ]
    },
    {
     "name": "stdout",
     "output_type": "stream",
     "text": [
      "\u001b[1m1395/1395\u001b[0m \u001b[32m━━━━━━━━━━━━━━━━━━━━\u001b[0m\u001b[37m\u001b[0m \u001b[1m612s\u001b[0m 437ms/step - accuracy: 0.0368 - loss: 2.4617e-39 - val_accuracy: 0.0186 - val_loss: 0.0000e+00\n",
      "Epoch 23/30\n"
     ]
    },
    {
     "name": "stderr",
     "output_type": "stream",
     "text": [
      "2024-12-06 23:11:55.991653: I tensorflow/core/framework/local_rendezvous.cc:424] Local rendezvous recv item cancelled. Key hash: 11981823494394289211\n",
      "2024-12-06 23:11:55.991714: I tensorflow/core/framework/local_rendezvous.cc:424] Local rendezvous recv item cancelled. Key hash: 6425893941402143907\n"
     ]
    },
    {
     "name": "stdout",
     "output_type": "stream",
     "text": [
      "\u001b[1m1392/1395\u001b[0m \u001b[32m━━━━━━━━━━━━━━━━━━━\u001b[0m\u001b[37m━\u001b[0m \u001b[1m1s\u001b[0m 351ms/step - accuracy: 0.0351 - loss: 2.6593e-39  "
     ]
    },
    {
     "name": "stderr",
     "output_type": "stream",
     "text": [
      "2024-12-06 23:20:07.833160: I tensorflow/core/framework/local_rendezvous.cc:424] Local rendezvous recv item cancelled. Key hash: 11981823494394289211\n",
      "2024-12-06 23:20:07.833226: I tensorflow/core/framework/local_rendezvous.cc:424] Local rendezvous recv item cancelled. Key hash: 6425893941402143907\n"
     ]
    },
    {
     "name": "stdout",
     "output_type": "stream",
     "text": [
      "\u001b[1m1395/1395\u001b[0m \u001b[32m━━━━━━━━━━━━━━━━━━━━\u001b[0m\u001b[37m\u001b[0m \u001b[1m614s\u001b[0m 438ms/step - accuracy: 0.0351 - loss: 2.6575e-39 - val_accuracy: 0.0182 - val_loss: 0.0000e+00\n",
      "Epoch 24/30\n"
     ]
    },
    {
     "name": "stderr",
     "output_type": "stream",
     "text": [
      "2024-12-06 23:22:09.824507: I tensorflow/core/framework/local_rendezvous.cc:424] Local rendezvous recv item cancelled. Key hash: 11981823494394289211\n",
      "2024-12-06 23:22:09.824568: I tensorflow/core/framework/local_rendezvous.cc:424] Local rendezvous recv item cancelled. Key hash: 6425893941402143907\n"
     ]
    },
    {
     "name": "stdout",
     "output_type": "stream",
     "text": [
      "\u001b[1m1394/1395\u001b[0m \u001b[32m━━━━━━━━━━━━━━━━━━━\u001b[0m\u001b[37m━\u001b[0m \u001b[1m0s\u001b[0m 351ms/step - accuracy: 0.0355 - loss: 2.8978e-39  "
     ]
    },
    {
     "name": "stderr",
     "output_type": "stream",
     "text": [
      "2024-12-06 23:30:21.432765: I tensorflow/core/framework/local_rendezvous.cc:424] Local rendezvous recv item cancelled. Key hash: 11981823494394289211\n",
      "2024-12-06 23:30:21.432824: I tensorflow/core/framework/local_rendezvous.cc:424] Local rendezvous recv item cancelled. Key hash: 6425893941402143907\n"
     ]
    },
    {
     "name": "stdout",
     "output_type": "stream",
     "text": [
      "\u001b[1m1395/1395\u001b[0m \u001b[32m━━━━━━━━━━━━━━━━━━━━\u001b[0m\u001b[37m\u001b[0m \u001b[1m613s\u001b[0m 437ms/step - accuracy: 0.0355 - loss: 2.8957e-39 - val_accuracy: 0.0149 - val_loss: 0.0000e+00\n",
      "Epoch 25/30\n"
     ]
    },
    {
     "name": "stderr",
     "output_type": "stream",
     "text": [
      "2024-12-06 23:32:22.383843: I tensorflow/core/framework/local_rendezvous.cc:424] Local rendezvous recv item cancelled. Key hash: 11981823494394289211\n",
      "2024-12-06 23:32:22.383903: I tensorflow/core/framework/local_rendezvous.cc:424] Local rendezvous recv item cancelled. Key hash: 6425893941402143907\n"
     ]
    },
    {
     "name": "stdout",
     "output_type": "stream",
     "text": [
      "\u001b[1m1392/1395\u001b[0m \u001b[32m━━━━━━━━━━━━━━━━━━━\u001b[0m\u001b[37m━\u001b[0m \u001b[1m1s\u001b[0m 356ms/step - accuracy: 0.0355 - loss: 3.0360e-39  "
     ]
    },
    {
     "name": "stderr",
     "output_type": "stream",
     "text": [
      "2024-12-06 23:40:40.921720: I tensorflow/core/framework/local_rendezvous.cc:424] Local rendezvous recv item cancelled. Key hash: 11981823494394289211\n",
      "2024-12-06 23:40:40.921806: I tensorflow/core/framework/local_rendezvous.cc:424] Local rendezvous recv item cancelled. Key hash: 6425893941402143907\n"
     ]
    }
   ],
   "source": [
    "%%time\n",
    "history = model.fit(\n",
    "    train_dataset,\n",
    "    epochs=30,\n",
    "    validation_data=test_dataset\n",
    ")"
   ]
  },
  {
   "cell_type": "markdown",
   "id": "3a393a4a-b362-4823-9210-4b138f2bd735",
   "metadata": {},
   "source": [
    "# Performance Graph"
   ]
  },
  {
   "cell_type": "code",
   "execution_count": null,
   "id": "71d5f247-4049-44a0-9484-655b759e0ed5",
   "metadata": {},
   "outputs": [],
   "source": [
    "# plot model performance\n",
    "import matplotlib.pyplot as plt\n",
    "\n",
    "plt.plot(history.history['accuracy'])\n",
    "plt.plot(history.history['val_accuracy'])\n",
    "plt.xlabel('Epoch')\n",
    "plt.ylabel('Accuracy')\n",
    "plt.legend(['Train', 'Validation'])\n",
    "plt.show()"
   ]
  },
  {
   "cell_type": "markdown",
   "id": "6fdf553e-0a25-49b3-b72b-b19e4bf78bd8",
   "metadata": {},
   "source": [
    "# Loss and Accuracy measures"
   ]
  },
  {
   "cell_type": "code",
   "execution_count": null,
   "id": "7a22e07b-6d16-4aa6-8f7e-0c60c15ca145",
   "metadata": {},
   "outputs": [],
   "source": [
    "# print results of test data ran through model\n",
    "test_loss, test_accuracy = model.evaluate(x_test, y_test)\n",
    "\n",
    "print(test_loss)\n",
    "print(test_accuracy)"
   ]
  },
  {
   "cell_type": "code",
   "execution_count": null,
   "id": "ca4a7328-434d-41b7-958f-0562fc67ca75",
   "metadata": {},
   "outputs": [],
   "source": [
    "classes = { 0: \"A\",\n",
    "            1: \"B\",\n",
    "            2: \"C\",\n",
    "            3: \"D\",\n",
    "            4: \"del\",\n",
    "            5: \"E\",\n",
    "            6: \"F\",\n",
    "            7: \"G\",\n",
    "            8: \"H\",\n",
    "            9: \"I\",\n",
    "            10: \"J\",\n",
    "            11: \"K\",\n",
    "            12: \"L\",\n",
    "            13: \"M\",\n",
    "            14: \"N\",\n",
    "            15: \"nothing\",\n",
    "            16: \"O\",\n",
    "            17: \"P\",\n",
    "            18: \"Q\",\n",
    "            19: \"R\",\n",
    "            20: \"S\",\n",
    "            21: \"space\",\n",
    "            22: \"T\",\n",
    "            23: \"U\",\n",
    "            24: \"V\",\n",
    "            25: \"W\",\n",
    "            26: \"X\",\n",
    "            27: \"Y\",\n",
    "            28: \"Z\",\n",
    "            }"
   ]
  },
  {
   "cell_type": "markdown",
   "id": "16464994-ff08-4c4f-a6cb-18d3edec1888",
   "metadata": {},
   "source": [
    "# Confusion Matrix"
   ]
  },
  {
   "cell_type": "code",
   "execution_count": null,
   "id": "1d5ea9fa-3fc9-4c7a-8291-7b21122a56b4",
   "metadata": {},
   "outputs": [],
   "source": [
    "from sklearn.metrics import confusion_matrix, ConfusionMatrixDisplay, classification_report\n",
    "y_pred = model.predict(x_test)\n",
    "y_pred_classes = np.argmax(y_pred, axis=1)\n",
    "y_true = np.argmax(y_test, axis=1)\n",
    "\n",
    "cm = confusion_matrix(y_true, y_pred_classes)\n",
    "\n",
    "plt.figure(figsize=(12, 12))\n",
    "disp = ConfusionMatrixDisplay(confusion_matrix=cm, display_labels=classes.values())\n",
    "disp.plot( values_format='d', ax=plt.gca())\n",
    "plt.xticks(rotation=90)\n",
    "plt.show()"
   ]
  },
  {
   "cell_type": "markdown",
   "id": "9457a8f0-a79a-4bd1-aa69-088c29dc39a4",
   "metadata": {},
   "source": [
    "# Classification Report"
   ]
  },
  {
   "cell_type": "code",
   "execution_count": null,
   "id": "ba05e3b0-c13d-45e0-8cf0-ec9bb63c5492",
   "metadata": {
    "scrolled": true
   },
   "outputs": [],
   "source": [
    " print(classification_report(y_true, y_pred_classes, target_names= classes.values())) "
   ]
  },
  {
   "cell_type": "markdown",
   "id": "93ed96a0-72f3-452c-97f8-990e28a48d23",
   "metadata": {},
   "source": [
    "## If model seems good, save it with the following cell"
   ]
  },
  {
   "cell_type": "code",
   "execution_count": null,
   "id": "d6c1518f-2d32-4f4a-898a-8f5febc870d1",
   "metadata": {},
   "outputs": [],
   "source": [
    "# save model and lebal binarizer with date and time\n",
    "from datetime import datetime\n",
    "keras_model_save_name = './keras_saves/' + datetime.now().strftime(\"%Y-%m-%d_%H-%M-%S\") + '.keras'\n",
    "label_binarizer_save_name = './binarizer/' + datetime.now().strftime(\"%Y-%m-%d_%H-%M-%S\") + '.pkl'\n",
    "joblib.dump(label_binarizer, label_binarizer_save_name) # save label binarizer\n",
    "model.save(keras_model_save_name) # save keras model"
   ]
  },
  {
   "cell_type": "markdown",
   "id": "f9286d22-7557-4f53-b48c-1a2b218f611a",
   "metadata": {},
   "source": [
    "## The following cells are not needed for the research portion. They will only be used when we decide what model is best after research"
   ]
  },
  {
   "cell_type": "code",
   "execution_count": null,
   "id": "dae364d2-c57c-47f7-bad7-917e670ee88b",
   "metadata": {},
   "outputs": [],
   "source": [
    "model_name_to_export = 'NewExample'"
   ]
  },
  {
   "cell_type": "code",
   "execution_count": null,
   "id": "52dda932-d9d0-4c0c-8a83-5190923a8422",
   "metadata": {},
   "outputs": [],
   "source": [
    "# load trained model\n",
    "from tensorflow.keras.models import load_model\n",
    "load_name ='./keras_saves/' +  model_name_to_export + '.keras'\n",
    "model = load_model(load_name, compile=False) \n",
    "print(model.summary())"
   ]
  },
  {
   "cell_type": "code",
   "execution_count": null,
   "id": "d239fb8a-f4e6-4704-9abe-d6c4e965cee4",
   "metadata": {},
   "outputs": [],
   "source": [
    "# export model\n",
    "model.export('./model_exports/')"
   ]
  },
  {
   "cell_type": "code",
   "execution_count": null,
   "id": "b52d71d3-c0b6-40f0-b33c-3f0061b40965",
   "metadata": {},
   "outputs": [],
   "source": [
    "# load exported model\n",
    "import tensorflow as tf\n",
    "reloaded_artifact = tf.saved_model.load('./model_exports/')\n",
    "print(reloaded_artifact.signatures)\n"
   ]
  },
  {
   "cell_type": "code",
   "execution_count": null,
   "id": "7ff0ef3e-070c-48e5-9cbc-736ac24974fa",
   "metadata": {},
   "outputs": [],
   "source": [
    "# prepocess test image\n",
    "# test_img_path = './data/archive/asl_alphabet_test/asl_alphabet_test/L_test.jpg'\n",
    "test_img_path = './data/test/test4.jpeg'\n",
    "og_image = Image.open(test_img_path)\n",
    "image = og_image.convert('L') # convert to grayscale\n",
    "image = image.resize((128, 128)) # resize\n",
    "image = np.array(image) # convert to array\n",
    "image = image / 255.0 # normalize\n",
    "image_array = np.expand_dims(image, axis=-1) \n",
    "image_array = np.expand_dims(image_array, axis=0) \n"
   ]
  },
  {
   "cell_type": "code",
   "execution_count": null,
   "id": "0ab1e877-4d62-4024-bc7d-c43e20cf90e9",
   "metadata": {},
   "outputs": [],
   "source": [
    "# predict test image\n",
    "predictions = reloaded_artifact.serve(image_array)\n",
    "rounded = np.round(predictions)\n",
    "b_load_name = './binarizer/' + model_name_to_export + '.pkl'\n",
    "label_binarizer = joblib.load(b_load_name) \n",
    "original_label = label_binarizer.inverse_transform(rounded)\n",
    "print(original_label)"
   ]
  },
  {
   "cell_type": "code",
   "execution_count": null,
   "id": "4d3fc85e-3d89-4a0a-9c7d-4144faf35348",
   "metadata": {},
   "outputs": [],
   "source": []
  }
 ],
 "metadata": {
  "kernelspec": {
   "display_name": "Python 3 (ipykernel)",
   "language": "python",
   "name": "python3"
  },
  "language_info": {
   "codemirror_mode": {
    "name": "ipython",
    "version": 3
   },
   "file_extension": ".py",
   "mimetype": "text/x-python",
   "name": "python",
   "nbconvert_exporter": "python",
   "pygments_lexer": "ipython3",
   "version": "3.12.0"
  }
 },
 "nbformat": 4,
 "nbformat_minor": 5
}
