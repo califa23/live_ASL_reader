{
 "cells": [
  {
   "cell_type": "code",
   "execution_count": 2,
   "id": "8bcbb48c-55cf-4df5-a25c-3117b9d771c2",
   "metadata": {},
   "outputs": [],
   "source": [
    "import os"
   ]
  },
  {
   "cell_type": "code",
   "execution_count": 5,
   "id": "18292f72-1dd0-423c-aa0c-4b77b840eb40",
   "metadata": {
    "scrolled": true
   },
   "outputs": [
    {
     "name": "stdout",
     "output_type": "stream",
     "text": [
      "0: 70\n",
      "1: 70\n",
      "2: 70\n",
      "3: 70\n",
      "4: 70\n",
      "5: 70\n",
      "6: 70\n",
      "7: 70\n",
      "8: 70\n",
      "9: 70\n",
      "a: 70\n",
      "b: 70\n",
      "c: 70\n",
      "d: 70\n",
      "e: 70\n",
      "f: 70\n",
      "g: 70\n",
      "h: 70\n",
      "i: 70\n",
      "j: 70\n",
      "k: 70\n",
      "l: 70\n",
      "m: 70\n",
      "n: 70\n",
      "o: 70\n",
      "p: 70\n",
      "q: 70\n",
      "r: 70\n",
      "s: 70\n",
      "t: 65\n",
      "u: 70\n",
      "v: 70\n",
      "w: 70\n",
      "x: 70\n",
      "y: 70\n",
      "z: 70\n"
     ]
    }
   ],
   "source": [
    "data_path = './data/asl_dataset/'\n",
    "for folder in os.listdir(data_path):\n",
    "    print(folder + \": \" + str(len(os.listdir(data_path + '/' + folder))))"
   ]
  },
  {
   "cell_type": "code",
   "execution_count": 9,
   "id": "c0e60a30-f0ec-4143-8aaa-5bb6d1096c43",
   "metadata": {},
   "outputs": [],
   "source": [
    "from PIL import Image\n",
    "data_path = './data/asl_dataset/'\n",
    "dim = (400,400)\n",
    "\n",
    "for folder in os.listdir(data_path):\n",
    "    for img in os.listdir(data_path + '/' + folder):\n",
    "        image = Image.open(data_path + '/' + folder + '/' + img)\n",
    "        if image.size != dim:\n",
    "            print(image.size)"
   ]
  },
  {
   "cell_type": "code",
   "execution_count": null,
   "id": "447fa1a3-519a-4f44-bf5e-f61015a2df95",
   "metadata": {},
   "outputs": [],
   "source": []
  }
 ],
 "metadata": {
  "kernelspec": {
   "display_name": "Python 3 (ipykernel)",
   "language": "python",
   "name": "python3"
  },
  "language_info": {
   "codemirror_mode": {
    "name": "ipython",
    "version": 3
   },
   "file_extension": ".py",
   "mimetype": "text/x-python",
   "name": "python",
   "nbconvert_exporter": "python",
   "pygments_lexer": "ipython3",
   "version": "3.12.0"
  }
 },
 "nbformat": 4,
 "nbformat_minor": 5
}
