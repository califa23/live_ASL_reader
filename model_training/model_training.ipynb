{
 "cells": [
  {
   "cell_type": "code",
   "execution_count": 1,
   "id": "fc51c25d-2a83-460d-8214-0ea1012ff130",
   "metadata": {},
   "outputs": [
    {
     "name": "stdout",
     "output_type": "stream",
     "text": [
      "absl-py==2.1.0\n",
      "anyio==4.6.2.post1\n",
      "argon2-cffi==23.1.0\n",
      "argon2-cffi-bindings==21.2.0\n",
      "arrow==1.3.0\n",
      "asttokens==2.4.1\n",
      "astunparse==1.6.3\n",
      "async-lru==2.0.4\n",
      "attrs==24.2.0\n",
      "babel==2.16.0\n",
      "beautifulsoup4==4.12.3\n",
      "bleach==6.2.0\n",
      "certifi==2024.8.30\n",
      "cffi==1.17.1\n",
      "charset-normalizer==3.4.0\n",
      "colorama==0.4.6\n",
      "comm==0.2.2\n",
      "contourpy==1.3.1\n",
      "cycler==0.12.1\n",
      "debugpy==1.8.9\n",
      "decorator==5.1.1\n",
      "defusedxml==0.7.1\n",
      "executing==2.1.0\n",
      "fastjsonschema==2.20.0\n",
      "flatbuffers==24.3.25\n",
      "fonttools==4.55.0\n",
      "fqdn==1.5.1\n",
      "gast==0.6.0\n",
      "google-pasta==0.2.0\n",
      "grpcio==1.68.0\n",
      "h11==0.14.0\n",
      "h5py==3.12.1\n",
      "httpcore==1.0.7\n",
      "httpx==0.27.2\n",
      "idna==3.10\n",
      "ipykernel==6.29.5\n",
      "ipython==8.29.0\n",
      "isoduration==20.11.0\n",
      "jedi==0.19.2\n",
      "Jinja2==3.1.4\n",
      "joblib==1.4.2\n",
      "json5==0.9.28\n",
      "jsonpointer==3.0.0\n",
      "jsonschema==4.23.0\n",
      "jsonschema-specifications==2024.10.1\n",
      "jupyter-events==0.10.0\n",
      "jupyter-lsp==2.2.5\n",
      "jupyter_client==8.6.3\n",
      "jupyter_core==5.7.2\n",
      "jupyter_server==2.14.2\n",
      "jupyter_server_terminals==0.5.3\n",
      "jupyterlab==4.2.6\n",
      "jupyterlab_pygments==0.3.0\n",
      "jupyterlab_server==2.27.3\n",
      "keras==3.6.0\n",
      "kiwisolver==1.4.7\n",
      "libclang==18.1.1\n",
      "Markdown==3.7\n",
      "markdown-it-py==3.0.0\n",
      "MarkupSafe==3.0.2\n",
      "matplotlib==3.9.2\n",
      "matplotlib-inline==0.1.7\n",
      "mdurl==0.1.2\n",
      "mistune==3.0.2\n",
      "ml-dtypes==0.4.1\n",
      "namex==0.0.8\n",
      "nbclient==0.10.0\n",
      "nbconvert==7.16.4\n",
      "nbformat==5.10.4\n",
      "nest-asyncio==1.6.0\n",
      "notebook==7.2.2\n",
      "notebook_shim==0.2.4\n",
      "numpy==2.0.2\n",
      "opt_einsum==3.4.0\n",
      "optree==0.13.1\n",
      "overrides==7.7.0\n",
      "packaging==24.2\n",
      "pandocfilters==1.5.1\n",
      "parso==0.8.4\n",
      "pillow==11.0.0\n",
      "platformdirs==4.3.6\n",
      "prometheus_client==0.21.0\n",
      "prompt_toolkit==3.0.48\n",
      "protobuf==5.28.3\n",
      "psutil==6.1.0\n",
      "pure_eval==0.2.3\n",
      "pycparser==2.22\n",
      "Pygments==2.18.0\n",
      "pyparsing==3.2.0\n",
      "python-dateutil==2.9.0.post0\n",
      "python-json-logger==2.0.7\n",
      "pywin32==308\n",
      "pywinpty==2.0.14\n",
      "PyYAML==6.0.2\n",
      "pyzmq==26.2.0\n",
      "referencing==0.35.1\n",
      "requests==2.32.3\n",
      "rfc3339-validator==0.1.4\n",
      "rfc3986-validator==0.1.1\n",
      "rich==13.9.4\n",
      "rpds-py==0.21.0\n",
      "scikit-learn==1.5.2\n",
      "scipy==1.14.1\n",
      "Send2Trash==1.8.3\n",
      "setuptools==75.6.0\n",
      "six==1.16.0\n",
      "sniffio==1.3.1\n",
      "soupsieve==2.6\n",
      "stack-data==0.6.3\n",
      "tensorboard==2.18.0\n",
      "tensorboard-data-server==0.7.2\n",
      "tensorflow==2.18.0\n",
      "tensorflow_intel==2.18.0\n",
      "termcolor==2.5.0\n",
      "terminado==0.18.1\n",
      "threadpoolctl==3.5.0\n",
      "tinycss2==1.4.0\n",
      "tornado==6.4.2\n",
      "traitlets==5.14.3\n",
      "types-python-dateutil==2.9.0.20241003\n",
      "typing_extensions==4.12.2\n",
      "uri-template==1.3.0\n",
      "urllib3==2.2.3\n",
      "wcwidth==0.2.13\n",
      "webcolors==24.11.1\n",
      "webencodings==0.5.1\n",
      "websocket-client==1.8.0\n",
      "Werkzeug==3.1.3\n",
      "wheel==0.45.0\n",
      "wrapt==1.17.0\n"
     ]
    }
   ],
   "source": [
    "!pip freeze"
   ]
  },
  {
   "cell_type": "code",
   "execution_count": 2,
   "id": "2fdacabe-aba5-4fd9-b077-fe7110233b1d",
   "metadata": {},
   "outputs": [
    {
     "name": "stdout",
     "output_type": "stream",
     "text": [
      "Python 3.12.0\n"
     ]
    }
   ],
   "source": [
    "!python -V"
   ]
  },
  {
   "cell_type": "code",
   "execution_count": 3,
   "id": "0a98cd55-2c18-4a21-b6ce-764b4ccbe3c7",
   "metadata": {},
   "outputs": [
    {
     "name": "stdout",
     "output_type": "stream",
     "text": [
      "CPU times: total: 656 ms\n",
      "Wall time: 3.28 s\n"
     ]
    }
   ],
   "source": [
    "%%time\n",
    "# imports\n",
    "import os\n",
    "import time\n",
    "from PIL import Image\n",
    "import numpy as np\n",
    "from sklearn.model_selection import train_test_split\n",
    "import joblib\n",
    "from sklearn.preprocessing import LabelBinarizer\n",
    "from tensorflow.keras import layers, models"
   ]
  },
  {
   "cell_type": "code",
   "execution_count": 4,
   "id": "8c241d70-9626-4d16-8f9d-3215e67b54b9",
   "metadata": {},
   "outputs": [
    {
     "name": "stdout",
     "output_type": "stream",
     "text": [
      "CPU times: total: 1min 59s\n",
      "Wall time: 18min 57s\n"
     ]
    }
   ],
   "source": [
    "%%time\n",
    "# read in data and preprocess\n",
    "images_path = './data/archive3/ASL_Alphabet_Dataset/asl_alphabet_train/'\n",
    "images = []\n",
    "\n",
    "for directory in os.listdir(images_path):\n",
    "    for file in os.listdir(images_path+directory):\n",
    "        file_path = images_path+directory+'/'+file\n",
    "        image = Image.open(file_path)\n",
    "        image = image.convert('L') # convert to grayscale\n",
    "        image = image.resize((128, 128)) # resize\n",
    "        # image.save('./data/resized/'+file) # uncomment to save the resized image\n",
    "        image = np.array(image) # convert to array\n",
    "        image = image / 255.0 # normalize\n",
    "        image = image.astype(np.float32)\n",
    "        images.append((directory, image))\n",
    "\n",
    "x = [image[1] for image in images]\n",
    "y = [image[0] for image in images]"
   ]
  },
  {
   "cell_type": "code",
   "execution_count": 5,
   "id": "8df14461-a73c-4088-8bf8-b5d3522b848a",
   "metadata": {},
   "outputs": [
    {
     "name": "stdout",
     "output_type": "stream",
     "text": [
      "(178459, 128, 128) float32\n",
      "(178459, 29) int32\n",
      "(44615, 128, 128) float32\n",
      "(44615, 29) int32\n",
      "CPU times: total: 11.8 s\n",
      "Wall time: 3min 21s\n"
     ]
    }
   ],
   "source": [
    "%%time\n",
    "x_train, x_test, y_train, y_test = train_test_split(x, y, test_size=0.2, random_state=0)\n",
    "\n",
    "x_train = np.array(x_train)\n",
    "x_test = np.array(x_test)\n",
    "\n",
    "\n",
    "# binarize the labels\n",
    "label_binarizer = LabelBinarizer()\n",
    "y_train = label_binarizer.fit_transform(y_train)\n",
    "y_test = label_binarizer.transform(y_test)\n",
    "\n",
    "y_train = y_train.astype(np.int32)\n",
    "y_test = y_test.astype(np.int32)\n",
    "\n",
    "print(x_train.shape, x_train.dtype)\n",
    "print(y_train.shape, y_train.dtype)\n",
    "print(x_test.shape, x_test.dtype)\n",
    "print(y_test.shape, y_test.dtype)"
   ]
  },
  {
   "cell_type": "code",
   "execution_count": 6,
   "id": "a8b24fe1-6852-4cc4-8e77-e117bb55b15e",
   "metadata": {},
   "outputs": [],
   "source": [
    "# x_train_memmap = np.memmap('x_train_memmap2.dat', dtype=x_train.dtype, mode='w+', shape=x_train.shape)\n",
    "# y_train_memmap = np.memmap('y_train_memmap2.dat', dtype=y_train.dtype, mode='w+', shape=y_train.shape)\n",
    "# x_test_memmap = np.memmap('x_test_memmap2.dat', dtype=x_test.dtype, mode='w+', shape=x_test.shape)\n",
    "# y_test_memmap = np.memmap('y_test_memmap2.dat', dtype=y_test.dtype, mode='w+', shape=y_test.shape)\n",
    "\n",
    "# x_train_memmap[:] = x_train\n",
    "# y_train_memmap[:] = y_train\n",
    "# x_test_memmap[:] = x_test\n",
    "# y_test_memmap[:] = y_test\n",
    "\n",
    "# x_train_memmap.flush()\n",
    "# y_train_memmap.flush()\n",
    "# x_test_memmap.flush()\n",
    "# y_test_memmap.flush()"
   ]
  },
  {
   "cell_type": "code",
   "execution_count": 7,
   "id": "a2605528-64d1-4cc2-bd7d-8fdfe03f29b2",
   "metadata": {},
   "outputs": [],
   "source": [
    "# x_train = np.memmap('x_train_memmap2.dat', dtype=np.float32, mode='r', shape=(178459, 128, 128))\n",
    "# y_train = np.memmap('y_train_memmap2.dat', dtype=np.int32, mode='r', shape=(178459, 29))\n",
    "# x_test = np.memmap('x_test_memmap2.dat', dtype=np.float32, mode='r', shape=(44615, 128, 128))\n",
    "# y_test = np.memmap('y_test_memmap2.dat', dtype=np.int32, mode='r', shape=(44615, 29))"
   ]
  },
  {
   "cell_type": "code",
   "execution_count": 8,
   "id": "ef6a002b-5c46-4c9f-a3a3-c1fc456d1c4e",
   "metadata": {},
   "outputs": [
    {
     "data": {
      "text/plain": [
       "(178459, 29)"
      ]
     },
     "execution_count": 8,
     "metadata": {},
     "output_type": "execute_result"
    }
   ],
   "source": [
    "y_train.shape\n",
    "# y_train[:5]"
   ]
  },
  {
   "cell_type": "code",
   "execution_count": 9,
   "id": "b3ae2861-2d3e-4842-ba12-87367adae74d",
   "metadata": {
    "scrolled": true
   },
   "outputs": [
    {
     "name": "stderr",
     "output_type": "stream",
     "text": [
      "C:\\Users\\John Califano\\Desktop\\AIProj\\live_ASL_reader\\venv\\Lib\\site-packages\\keras\\src\\layers\\convolutional\\base_conv.py:107: UserWarning: Do not pass an `input_shape`/`input_dim` argument to a layer. When using Sequential models, prefer using an `Input(shape)` object as the first layer in the model instead.\n",
      "  super().__init__(activity_regularizer=activity_regularizer, **kwargs)\n"
     ]
    },
    {
     "name": "stdout",
     "output_type": "stream",
     "text": [
      "Epoch 1/50\n",
      "\u001b[1m1116/1116\u001b[0m \u001b[32m━━━━━━━━━━━━━━━━━━━━\u001b[0m\u001b[37m\u001b[0m \u001b[1m447s\u001b[0m 397ms/step - accuracy: 0.2838 - loss: 2.4416 - val_accuracy: 0.8332 - val_loss: 0.6385\n",
      "Epoch 2/50\n",
      "\u001b[1m1116/1116\u001b[0m \u001b[32m━━━━━━━━━━━━━━━━━━━━\u001b[0m\u001b[37m\u001b[0m \u001b[1m407s\u001b[0m 364ms/step - accuracy: 0.6828 - loss: 0.9672 - val_accuracy: 0.9193 - val_loss: 0.3387\n",
      "Epoch 3/50\n",
      "\u001b[1m1116/1116\u001b[0m \u001b[32m━━━━━━━━━━━━━━━━━━━━\u001b[0m\u001b[37m\u001b[0m \u001b[1m395s\u001b[0m 354ms/step - accuracy: 0.7690 - loss: 0.6899 - val_accuracy: 0.9423 - val_loss: 0.2377\n",
      "Epoch 4/50\n",
      "\u001b[1m1116/1116\u001b[0m \u001b[32m━━━━━━━━━━━━━━━━━━━━\u001b[0m\u001b[37m\u001b[0m \u001b[1m367s\u001b[0m 329ms/step - accuracy: 0.8087 - loss: 0.5633 - val_accuracy: 0.9546 - val_loss: 0.1874\n",
      "Epoch 5/50\n",
      "\u001b[1m1116/1116\u001b[0m \u001b[32m━━━━━━━━━━━━━━━━━━━━\u001b[0m\u001b[37m\u001b[0m \u001b[1m372s\u001b[0m 334ms/step - accuracy: 0.8374 - loss: 0.4785 - val_accuracy: 0.9658 - val_loss: 0.1531\n",
      "Epoch 6/50\n",
      "\u001b[1m1116/1116\u001b[0m \u001b[32m━━━━━━━━━━━━━━━━━━━━\u001b[0m\u001b[37m\u001b[0m \u001b[1m371s\u001b[0m 333ms/step - accuracy: 0.8596 - loss: 0.4117 - val_accuracy: 0.9690 - val_loss: 0.1250\n",
      "Epoch 7/50\n",
      "\u001b[1m1116/1116\u001b[0m \u001b[32m━━━━━━━━━━━━━━━━━━━━\u001b[0m\u001b[37m\u001b[0m \u001b[1m377s\u001b[0m 338ms/step - accuracy: 0.8752 - loss: 0.3643 - val_accuracy: 0.9770 - val_loss: 0.1003\n",
      "Epoch 8/50\n",
      "\u001b[1m1116/1116\u001b[0m \u001b[32m━━━━━━━━━━━━━━━━━━━━\u001b[0m\u001b[37m\u001b[0m \u001b[1m367s\u001b[0m 329ms/step - accuracy: 0.8893 - loss: 0.3255 - val_accuracy: 0.9779 - val_loss: 0.0920\n",
      "Epoch 9/50\n",
      "\u001b[1m1116/1116\u001b[0m \u001b[32m━━━━━━━━━━━━━━━━━━━━\u001b[0m\u001b[37m\u001b[0m \u001b[1m356s\u001b[0m 319ms/step - accuracy: 0.8980 - loss: 0.3001 - val_accuracy: 0.9802 - val_loss: 0.0881\n",
      "Epoch 10/50\n",
      "\u001b[1m1116/1116\u001b[0m \u001b[32m━━━━━━━━━━━━━━━━━━━━\u001b[0m\u001b[37m\u001b[0m \u001b[1m357s\u001b[0m 320ms/step - accuracy: 0.9092 - loss: 0.2688 - val_accuracy: 0.9825 - val_loss: 0.0762\n",
      "Epoch 11/50\n",
      "\u001b[1m1116/1116\u001b[0m \u001b[32m━━━━━━━━━━━━━━━━━━━━\u001b[0m\u001b[37m\u001b[0m \u001b[1m357s\u001b[0m 320ms/step - accuracy: 0.9138 - loss: 0.2535 - val_accuracy: 0.9843 - val_loss: 0.0678\n",
      "Epoch 12/50\n",
      "\u001b[1m1116/1116\u001b[0m \u001b[32m━━━━━━━━━━━━━━━━━━━━\u001b[0m\u001b[37m\u001b[0m \u001b[1m356s\u001b[0m 319ms/step - accuracy: 0.9203 - loss: 0.2340 - val_accuracy: 0.9827 - val_loss: 0.0682\n",
      "Epoch 13/50\n",
      "\u001b[1m1116/1116\u001b[0m \u001b[32m━━━━━━━━━━━━━━━━━━━━\u001b[0m\u001b[37m\u001b[0m \u001b[1m356s\u001b[0m 319ms/step - accuracy: 0.9248 - loss: 0.2206 - val_accuracy: 0.9857 - val_loss: 0.0621\n",
      "Epoch 14/50\n",
      "\u001b[1m1116/1116\u001b[0m \u001b[32m━━━━━━━━━━━━━━━━━━━━\u001b[0m\u001b[37m\u001b[0m \u001b[1m356s\u001b[0m 319ms/step - accuracy: 0.9305 - loss: 0.2055 - val_accuracy: 0.9868 - val_loss: 0.0580\n",
      "Epoch 15/50\n",
      "\u001b[1m1116/1116\u001b[0m \u001b[32m━━━━━━━━━━━━━━━━━━━━\u001b[0m\u001b[37m\u001b[0m \u001b[1m356s\u001b[0m 319ms/step - accuracy: 0.9320 - loss: 0.1984 - val_accuracy: 0.9870 - val_loss: 0.0584\n",
      "Epoch 16/50\n",
      "\u001b[1m1116/1116\u001b[0m \u001b[32m━━━━━━━━━━━━━━━━━━━━\u001b[0m\u001b[37m\u001b[0m \u001b[1m357s\u001b[0m 320ms/step - accuracy: 0.9359 - loss: 0.1896 - val_accuracy: 0.9874 - val_loss: 0.0571\n",
      "Epoch 17/50\n",
      "\u001b[1m1116/1116\u001b[0m \u001b[32m━━━━━━━━━━━━━━━━━━━━\u001b[0m\u001b[37m\u001b[0m \u001b[1m356s\u001b[0m 319ms/step - accuracy: 0.9403 - loss: 0.1756 - val_accuracy: 0.9881 - val_loss: 0.0537\n",
      "Epoch 18/50\n",
      "\u001b[1m1116/1116\u001b[0m \u001b[32m━━━━━━━━━━━━━━━━━━━━\u001b[0m\u001b[37m\u001b[0m \u001b[1m356s\u001b[0m 319ms/step - accuracy: 0.9419 - loss: 0.1696 - val_accuracy: 0.9878 - val_loss: 0.0510\n",
      "Epoch 19/50\n",
      "\u001b[1m1116/1116\u001b[0m \u001b[32m━━━━━━━━━━━━━━━━━━━━\u001b[0m\u001b[37m\u001b[0m \u001b[1m357s\u001b[0m 320ms/step - accuracy: 0.9449 - loss: 0.1619 - val_accuracy: 0.9892 - val_loss: 0.0487\n",
      "Epoch 20/50\n",
      "\u001b[1m1116/1116\u001b[0m \u001b[32m━━━━━━━━━━━━━━━━━━━━\u001b[0m\u001b[37m\u001b[0m \u001b[1m357s\u001b[0m 320ms/step - accuracy: 0.9470 - loss: 0.1552 - val_accuracy: 0.9902 - val_loss: 0.0466\n",
      "Epoch 21/50\n",
      "\u001b[1m1116/1116\u001b[0m \u001b[32m━━━━━━━━━━━━━━━━━━━━\u001b[0m\u001b[37m\u001b[0m \u001b[1m358s\u001b[0m 321ms/step - accuracy: 0.9524 - loss: 0.1447 - val_accuracy: 0.9897 - val_loss: 0.0478\n",
      "Epoch 22/50\n",
      "\u001b[1m1116/1116\u001b[0m \u001b[32m━━━━━━━━━━━━━━━━━━━━\u001b[0m\u001b[37m\u001b[0m \u001b[1m356s\u001b[0m 319ms/step - accuracy: 0.9510 - loss: 0.1433 - val_accuracy: 0.9906 - val_loss: 0.0439\n",
      "Epoch 23/50\n",
      "\u001b[1m1116/1116\u001b[0m \u001b[32m━━━━━━━━━━━━━━━━━━━━\u001b[0m\u001b[37m\u001b[0m \u001b[1m357s\u001b[0m 320ms/step - accuracy: 0.9514 - loss: 0.1413 - val_accuracy: 0.9897 - val_loss: 0.0444\n",
      "Epoch 24/50\n",
      "\u001b[1m1116/1116\u001b[0m \u001b[32m━━━━━━━━━━━━━━━━━━━━\u001b[0m\u001b[37m\u001b[0m \u001b[1m357s\u001b[0m 320ms/step - accuracy: 0.9543 - loss: 0.1346 - val_accuracy: 0.9907 - val_loss: 0.0457\n",
      "Epoch 25/50\n",
      "\u001b[1m1116/1116\u001b[0m \u001b[32m━━━━━━━━━━━━━━━━━━━━\u001b[0m\u001b[37m\u001b[0m \u001b[1m356s\u001b[0m 319ms/step - accuracy: 0.9566 - loss: 0.1315 - val_accuracy: 0.9913 - val_loss: 0.0411\n",
      "Epoch 26/50\n",
      "\u001b[1m1116/1116\u001b[0m \u001b[32m━━━━━━━━━━━━━━━━━━━━\u001b[0m\u001b[37m\u001b[0m \u001b[1m357s\u001b[0m 320ms/step - accuracy: 0.9563 - loss: 0.1280 - val_accuracy: 0.9911 - val_loss: 0.0402\n",
      "Epoch 27/50\n",
      "\u001b[1m1116/1116\u001b[0m \u001b[32m━━━━━━━━━━━━━━━━━━━━\u001b[0m\u001b[37m\u001b[0m \u001b[1m357s\u001b[0m 320ms/step - accuracy: 0.9590 - loss: 0.1206 - val_accuracy: 0.9915 - val_loss: 0.0396\n",
      "Epoch 28/50\n",
      "\u001b[1m1116/1116\u001b[0m \u001b[32m━━━━━━━━━━━━━━━━━━━━\u001b[0m\u001b[37m\u001b[0m \u001b[1m357s\u001b[0m 320ms/step - accuracy: 0.9591 - loss: 0.1222 - val_accuracy: 0.9915 - val_loss: 0.0422\n",
      "Epoch 29/50\n",
      "\u001b[1m1116/1116\u001b[0m \u001b[32m━━━━━━━━━━━━━━━━━━━━\u001b[0m\u001b[37m\u001b[0m \u001b[1m357s\u001b[0m 320ms/step - accuracy: 0.9628 - loss: 0.1109 - val_accuracy: 0.9909 - val_loss: 0.0403\n",
      "Epoch 30/50\n",
      "\u001b[1m1116/1116\u001b[0m \u001b[32m━━━━━━━━━━━━━━━━━━━━\u001b[0m\u001b[37m\u001b[0m \u001b[1m358s\u001b[0m 321ms/step - accuracy: 0.9627 - loss: 0.1083 - val_accuracy: 0.9920 - val_loss: 0.0392\n",
      "Epoch 31/50\n",
      "\u001b[1m1116/1116\u001b[0m \u001b[32m━━━━━━━━━━━━━━━━━━━━\u001b[0m\u001b[37m\u001b[0m \u001b[1m357s\u001b[0m 320ms/step - accuracy: 0.9637 - loss: 0.1106 - val_accuracy: 0.9922 - val_loss: 0.0415\n",
      "Epoch 32/50\n",
      "\u001b[1m1116/1116\u001b[0m \u001b[32m━━━━━━━━━━━━━━━━━━━━\u001b[0m\u001b[37m\u001b[0m \u001b[1m359s\u001b[0m 322ms/step - accuracy: 0.9646 - loss: 0.1056 - val_accuracy: 0.9920 - val_loss: 0.0409\n",
      "Epoch 33/50\n",
      "\u001b[1m1116/1116\u001b[0m \u001b[32m━━━━━━━━━━━━━━━━━━━━\u001b[0m\u001b[37m\u001b[0m \u001b[1m357s\u001b[0m 320ms/step - accuracy: 0.9646 - loss: 0.1060 - val_accuracy: 0.9925 - val_loss: 0.0380\n",
      "Epoch 34/50\n",
      "\u001b[1m1116/1116\u001b[0m \u001b[32m━━━━━━━━━━━━━━━━━━━━\u001b[0m\u001b[37m\u001b[0m \u001b[1m358s\u001b[0m 320ms/step - accuracy: 0.9658 - loss: 0.0997 - val_accuracy: 0.9917 - val_loss: 0.0403\n",
      "Epoch 35/50\n",
      "\u001b[1m1116/1116\u001b[0m \u001b[32m━━━━━━━━━━━━━━━━━━━━\u001b[0m\u001b[37m\u001b[0m \u001b[1m357s\u001b[0m 320ms/step - accuracy: 0.9666 - loss: 0.1000 - val_accuracy: 0.9922 - val_loss: 0.0392\n",
      "Epoch 36/50\n",
      "\u001b[1m1116/1116\u001b[0m \u001b[32m━━━━━━━━━━━━━━━━━━━━\u001b[0m\u001b[37m\u001b[0m \u001b[1m357s\u001b[0m 320ms/step - accuracy: 0.9677 - loss: 0.0956 - val_accuracy: 0.9927 - val_loss: 0.0374\n",
      "Epoch 37/50\n",
      "\u001b[1m1116/1116\u001b[0m \u001b[32m━━━━━━━━━━━━━━━━━━━━\u001b[0m\u001b[37m\u001b[0m \u001b[1m358s\u001b[0m 321ms/step - accuracy: 0.9684 - loss: 0.0936 - val_accuracy: 0.9922 - val_loss: 0.0423\n",
      "Epoch 38/50\n",
      "\u001b[1m1116/1116\u001b[0m \u001b[32m━━━━━━━━━━━━━━━━━━━━\u001b[0m\u001b[37m\u001b[0m \u001b[1m357s\u001b[0m 320ms/step - accuracy: 0.9691 - loss: 0.0924 - val_accuracy: 0.9919 - val_loss: 0.0426\n",
      "Epoch 39/50\n",
      "\u001b[1m1116/1116\u001b[0m \u001b[32m━━━━━━━━━━━━━━━━━━━━\u001b[0m\u001b[37m\u001b[0m \u001b[1m358s\u001b[0m 321ms/step - accuracy: 0.9692 - loss: 0.0929 - val_accuracy: 0.9925 - val_loss: 0.0390\n",
      "Epoch 40/50\n",
      "\u001b[1m1116/1116\u001b[0m \u001b[32m━━━━━━━━━━━━━━━━━━━━\u001b[0m\u001b[37m\u001b[0m \u001b[1m357s\u001b[0m 320ms/step - accuracy: 0.9691 - loss: 0.0912 - val_accuracy: 0.9923 - val_loss: 0.0418\n",
      "Epoch 41/50\n",
      "\u001b[1m1116/1116\u001b[0m \u001b[32m━━━━━━━━━━━━━━━━━━━━\u001b[0m\u001b[37m\u001b[0m \u001b[1m358s\u001b[0m 321ms/step - accuracy: 0.9717 - loss: 0.0848 - val_accuracy: 0.9929 - val_loss: 0.0371\n",
      "Epoch 42/50\n",
      "\u001b[1m1116/1116\u001b[0m \u001b[32m━━━━━━━━━━━━━━━━━━━━\u001b[0m\u001b[37m\u001b[0m \u001b[1m358s\u001b[0m 321ms/step - accuracy: 0.9699 - loss: 0.0885 - val_accuracy: 0.9922 - val_loss: 0.0384\n",
      "Epoch 43/50\n",
      "\u001b[1m1116/1116\u001b[0m \u001b[32m━━━━━━━━━━━━━━━━━━━━\u001b[0m\u001b[37m\u001b[0m \u001b[1m357s\u001b[0m 320ms/step - accuracy: 0.9707 - loss: 0.0860 - val_accuracy: 0.9929 - val_loss: 0.0348\n",
      "Epoch 44/50\n",
      "\u001b[1m1116/1116\u001b[0m \u001b[32m━━━━━━━━━━━━━━━━━━━━\u001b[0m\u001b[37m\u001b[0m \u001b[1m357s\u001b[0m 320ms/step - accuracy: 0.9721 - loss: 0.0813 - val_accuracy: 0.9923 - val_loss: 0.0344\n",
      "Epoch 45/50\n",
      "\u001b[1m1116/1116\u001b[0m \u001b[32m━━━━━━━━━━━━━━━━━━━━\u001b[0m\u001b[37m\u001b[0m \u001b[1m359s\u001b[0m 321ms/step - accuracy: 0.9728 - loss: 0.0825 - val_accuracy: 0.9930 - val_loss: 0.0379\n",
      "Epoch 46/50\n",
      "\u001b[1m1116/1116\u001b[0m \u001b[32m━━━━━━━━━━━━━━━━━━━━\u001b[0m\u001b[37m\u001b[0m \u001b[1m358s\u001b[0m 320ms/step - accuracy: 0.9724 - loss: 0.0846 - val_accuracy: 0.9938 - val_loss: 0.0327\n",
      "Epoch 47/50\n",
      "\u001b[1m1116/1116\u001b[0m \u001b[32m━━━━━━━━━━━━━━━━━━━━\u001b[0m\u001b[37m\u001b[0m \u001b[1m359s\u001b[0m 322ms/step - accuracy: 0.9735 - loss: 0.0810 - val_accuracy: 0.9936 - val_loss: 0.0368\n",
      "Epoch 48/50\n",
      "\u001b[1m1116/1116\u001b[0m \u001b[32m━━━━━━━━━━━━━━━━━━━━\u001b[0m\u001b[37m\u001b[0m \u001b[1m357s\u001b[0m 320ms/step - accuracy: 0.9740 - loss: 0.0781 - val_accuracy: 0.9935 - val_loss: 0.0361\n",
      "Epoch 49/50\n",
      "\u001b[1m1116/1116\u001b[0m \u001b[32m━━━━━━━━━━━━━━━━━━━━\u001b[0m\u001b[37m\u001b[0m \u001b[1m358s\u001b[0m 321ms/step - accuracy: 0.9742 - loss: 0.0763 - val_accuracy: 0.9935 - val_loss: 0.0349\n",
      "Epoch 50/50\n",
      "\u001b[1m1116/1116\u001b[0m \u001b[32m━━━━━━━━━━━━━━━━━━━━\u001b[0m\u001b[37m\u001b[0m \u001b[1m358s\u001b[0m 321ms/step - accuracy: 0.9750 - loss: 0.0746 - val_accuracy: 0.9932 - val_loss: 0.0348\n",
      "CPU times: total: 1d 20h 43min 13s\n",
      "Wall time: 5h 3min 12s\n"
     ]
    }
   ],
   "source": [
    "%%time\n",
    "model = models.Sequential([\n",
    "   layers.Conv2D(8, (3, 3), activation='relu', input_shape=(128, 128, 1)),\n",
    "    layers.MaxPooling2D((2, 2)),\n",
    "    layers.Conv2D(64, (3, 3), activation='relu'),\n",
    "    layers.MaxPooling2D((2, 2)),\n",
    "    layers.Conv2D(128, (3, 3), activation='relu'),\n",
    "    layers.MaxPooling2D((2, 2)),\n",
    "    layers.Flatten(),\n",
    "    layers.Dropout(0.4),\n",
    "    layers.Dense(128, activation='relu'),\n",
    "    layers.Dropout(0.5),\n",
    "    layers.Dense(29, activation='softmax')\n",
    "])\n",
    "\n",
    "model.compile(optimizer='adam',\n",
    "              loss='categorical_crossentropy',\n",
    "              metrics=['accuracy'])\n",
    "\n",
    "history = model.fit(x_train, y_train, epochs=50, batch_size=128, validation_split=0.2)"
   ]
  },
  {
   "cell_type": "markdown",
   "id": "3a393a4a-b362-4823-9210-4b138f2bd735",
   "metadata": {},
   "source": [
    "# Performance Graph"
   ]
  },
  {
   "cell_type": "code",
   "execution_count": 10,
   "id": "71d5f247-4049-44a0-9484-655b759e0ed5",
   "metadata": {},
   "outputs": [
    {
     "data": {
      "image/png": "[encoded data removed]",
      "text/plain": [
       "<Figure size 640x480 with 1 Axes>"
      ]
     },
     "metadata": {},
     "output_type": "display_data"
    }
   ],
   "source": [
    "# plot model performance\n",
    "import matplotlib.pyplot as plt\n",
    "\n",
    "plt.plot(history.history['accuracy'])\n",
    "plt.plot(history.history['val_accuracy'])\n",
    "plt.xlabel('Epoch')\n",
    "plt.ylabel('Accuracy')\n",
    "plt.legend(['Train', 'Validation'])\n",
    "plt.show()"
   ]
  },
  {
   "cell_type": "markdown",
   "id": "6fdf553e-0a25-49b3-b72b-b19e4bf78bd8",
   "metadata": {},
   "source": [
    "# Loss and Accuracy measures"
   ]
  },
  {
   "cell_type": "markdown",
   "id": "7206dc69-6b59-422c-9383-369992cc9779",
   "metadata": {},
   "source": [
    "# "
   ]
  },
  {
   "cell_type": "code",
   "execution_count": 11,
   "id": "7a22e07b-6d16-4aa6-8f7e-0c60c15ca145",
   "metadata": {},
   "outputs": [
    {
     "name": "stdout",
     "output_type": "stream",
     "text": [
      "\u001b[1m1395/1395\u001b[0m \u001b[32m━━━━━━━━━━━━━━━━━━━━\u001b[0m\u001b[37m\u001b[0m \u001b[1m26s\u001b[0m 19ms/step - accuracy: 0.9925 - loss: 0.0301\n",
      "0.029039254412055016\n",
      "0.9934102892875671\n"
     ]
    }
   ],
   "source": [
    "# print results of test data ran through model\n",
    "test_loss, test_accuracy = model.evaluate(x_test, y_test)\n",
    "\n",
    "print(test_loss)\n",
    "print(test_accuracy)"
   ]
  },
  {
   "cell_type": "code",
   "execution_count": 12,
   "id": "ca4a7328-434d-41b7-958f-0562fc67ca75",
   "metadata": {
    "jupyter": {
     "source_hidden": true
    }
   },
   "outputs": [],
   "source": [
    "classes = { 0: \"A\",\n",
    "            1: \"B\",\n",
    "            2: \"C\",\n",
    "            3: \"D\",\n",
    "            4: \"del\",\n",
    "            5: \"E\",\n",
    "            6: \"F\",\n",
    "            7: \"G\",\n",
    "            8: \"H\",\n",
    "            9: \"I\",\n",
    "            10: \"J\",\n",
    "            11: \"K\",\n",
    "            12: \"L\",\n",
    "            13: \"M\",\n",
    "            14: \"N\",\n",
    "            15: \"nothing\",\n",
    "            16: \"O\",\n",
    "            17: \"P\",\n",
    "            18: \"Q\",\n",
    "            19: \"R\",\n",
    "            20: \"S\",\n",
    "            21: \"space\",\n",
    "            22: \"T\",\n",
    "            23: \"U\",\n",
    "            24: \"V\",\n",
    "            25: \"W\",\n",
    "            26: \"X\",\n",
    "            27: \"Y\",\n",
    "            28: \"Z\",\n",
    "            }"
   ]
  },
  {
   "cell_type": "markdown",
   "id": "16464994-ff08-4c4f-a6cb-18d3edec1888",
   "metadata": {},
   "source": [
    "# Confusion Matrix"
   ]
  },
  {
   "cell_type": "code",
   "execution_count": 13,
   "id": "1d5ea9fa-3fc9-4c7a-8291-7b21122a56b4",
   "metadata": {},
   "outputs": [
    {
     "name": "stdout",
     "output_type": "stream",
     "text": [
      "\u001b[1m1395/1395\u001b[0m \u001b[32m━━━━━━━━━━━━━━━━━━━━\u001b[0m\u001b[37m\u001b[0m \u001b[1m26s\u001b[0m 19ms/step\n"
     ]
    },
    {
     "data": {
      "image/png": "[encoded data removed]",
      "text/plain": [
       "<Figure size 1200x1200 with 2 Axes>"
      ]
     },
     "metadata": {},
     "output_type": "display_data"
    }
   ],
   "source": [
    "from sklearn.metrics import confusion_matrix, ConfusionMatrixDisplay, classification_report\n",
    "y_pred = model.predict(x_test)\n",
    "y_pred_classes = np.argmax(y_pred, axis=1)\n",
    "y_true = np.argmax(y_test, axis=1)\n",
    "\n",
    "cm = confusion_matrix(y_true, y_pred_classes)\n",
    "\n",
    "plt.figure(figsize=(12, 12))\n",
    "disp = ConfusionMatrixDisplay(confusion_matrix=cm, display_labels=classes.values())\n",
    "disp.plot( values_format='d', ax=plt.gca())\n",
    "plt.xticks(rotation=90)\n",
    "plt.show()"
   ]
  },
  {
   "cell_type": "markdown",
   "id": "9457a8f0-a79a-4bd1-aa69-088c29dc39a4",
   "metadata": {},
   "source": [
    "# Classification Report"
   ]
  },
  {
   "cell_type": "code",
   "execution_count": 14,
   "id": "ba05e3b0-c13d-45e0-8cf0-ec9bb63c5492",
   "metadata": {},
   "outputs": [
    {
     "name": "stdout",
     "output_type": "stream",
     "text": [
      "              precision    recall  f1-score   support\n",
      "\n",
      "           A       0.99      0.99      0.99      1715\n",
      "           B       1.00      1.00      1.00      1605\n",
      "           C       1.00      1.00      1.00      1635\n",
      "           D       0.99      0.99      0.99      1513\n",
      "         del       0.99      0.99      0.99      1554\n",
      "           E       1.00      0.99      1.00      1595\n",
      "           F       0.99      0.99      0.99      1560\n",
      "           G       0.99      0.99      0.99      1555\n",
      "           H       0.99      1.00      0.99      1585\n",
      "           I       1.00      1.00      1.00      1517\n",
      "           J       0.99      0.99      0.99      1567\n",
      "           K       1.00      1.00      1.00      1623\n",
      "           L       0.99      0.99      0.99      1639\n",
      "           M       0.99      0.98      0.99      1534\n",
      "           N       0.99      0.99      0.99      1636\n",
      "     nothing       1.00      1.00      1.00      1491\n",
      "           O       1.00      1.00      1.00      1630\n",
      "           P       0.99      0.99      0.99      1678\n",
      "           Q       0.99      0.98      0.99      1619\n",
      "           R       0.99      0.99      0.99      1550\n",
      "           S       0.99      0.99      0.99      1672\n",
      "       space       1.00      0.99      1.00      1513\n",
      "           T       0.99      1.00      0.99      1622\n",
      "           U       0.99      0.99      0.99      1567\n",
      "           V       0.99      1.00      0.99      1534\n",
      "           W       1.00      0.99      1.00      1509\n",
      "           X       1.00      0.99      1.00      1382\n",
      "           Y       1.00      0.99      1.00       628\n",
      "           Z       1.00      1.00      1.00      1387\n",
      "\n",
      "    accuracy                           0.99     44615\n",
      "   macro avg       0.99      0.99      0.99     44615\n",
      "weighted avg       0.99      0.99      0.99     44615\n",
      "\n"
     ]
    }
   ],
   "source": [
    " print(classification_report(y_true, y_pred_classes, target_names= classes.values())) "
   ]
  },
  {
   "cell_type": "markdown",
   "id": "93ed96a0-72f3-452c-97f8-990e28a48d23",
   "metadata": {},
   "source": [
    "## If model seems good, save it with the following cell"
   ]
  },
  {
   "cell_type": "code",
   "execution_count": 15,
   "id": "d6c1518f-2d32-4f4a-898a-8f5febc870d1",
   "metadata": {},
   "outputs": [],
   "source": [
    "# save model and lebal binarizer with date and time\n",
    "from datetime import datetime\n",
    "# label_binarizer = LabelBinarizer()\n",
    "\n",
    "keras_model_save_name = './keras_saves/' + datetime.now().strftime(\"%Y-%m-%d_%H-%M-%S\") + '.keras'\n",
    "label_binarizer_save_name = './binarizer/' + datetime.now().strftime(\"%Y-%m-%d_%H-%M-%S\") + '.pkl'\n",
    "joblib.dump(label_binarizer, label_binarizer_save_name) # save label binarizer\n",
    "model.save(keras_model_save_name) # save keras model"
   ]
  },
  {
   "cell_type": "markdown",
   "id": "f9286d22-7557-4f53-b48c-1a2b218f611a",
   "metadata": {},
   "source": [
    "## The following cells are not needed for the research portion. They will only be used when we decide what model is best after research"
   ]
  },
  {
   "cell_type": "code",
   "execution_count": 18,
   "id": "dae364d2-c57c-47f7-bad7-917e670ee88b",
   "metadata": {},
   "outputs": [],
   "source": [
    "model_name_to_export = 'E'"
   ]
  },
  {
   "cell_type": "code",
   "execution_count": 19,
   "id": "52dda932-d9d0-4c0c-8a83-5190923a8422",
   "metadata": {},
   "outputs": [
    {
     "data": {
      "text/html": [
       "<pre style=\"white-space:pre;overflow-x:auto;line-height:normal;font-family:Menlo,'DejaVu Sans Mono',consolas,'Courier New',monospace\"><span style=\"font-weight: bold\">Model: \"sequential\"</span>\n",
       "</pre>\n"
      ],
      "text/plain": [
       "\u001b[1mModel: \"sequential\"\u001b[0m\n"
      ]
     },
     "metadata": {},
     "output_type": "display_data"
    },
    {
     "data": {
      "text/html": [
       "<pre style=\"white-space:pre;overflow-x:auto;line-height:normal;font-family:Menlo,'DejaVu Sans Mono',consolas,'Courier New',monospace\">┏━━━━━━━━━━━━━━━━━━━━━━━━━━━━━━━━━━━━━━┳━━━━━━━━━━━━━━━━━━━━━━━━━━━━━┳━━━━━━━━━━━━━━━━━┓\n",
       "┃<span style=\"font-weight: bold\"> Layer (type)                         </span>┃<span style=\"font-weight: bold\"> Output Shape                </span>┃<span style=\"font-weight: bold\">         Param # </span>┃\n",
       "┡━━━━━━━━━━━━━━━━━━━━━━━━━━━━━━━━━━━━━━╇━━━━━━━━━━━━━━━━━━━━━━━━━━━━━╇━━━━━━━━━━━━━━━━━┩\n",
       "│ conv2d (<span style=\"color: #0087ff; text-decoration-color: #0087ff\">Conv2D</span>)                      │ (<span style=\"color: #00d7ff; text-decoration-color: #00d7ff\">None</span>, <span style=\"color: #00af00; text-decoration-color: #00af00\">126</span>, <span style=\"color: #00af00; text-decoration-color: #00af00\">126</span>, <span style=\"color: #00af00; text-decoration-color: #00af00\">8</span>)         │              <span style=\"color: #00af00; text-decoration-color: #00af00\">80</span> │\n",
       "├──────────────────────────────────────┼─────────────────────────────┼─────────────────┤\n",
       "│ max_pooling2d (<span style=\"color: #0087ff; text-decoration-color: #0087ff\">MaxPooling2D</span>)         │ (<span style=\"color: #00d7ff; text-decoration-color: #00d7ff\">None</span>, <span style=\"color: #00af00; text-decoration-color: #00af00\">63</span>, <span style=\"color: #00af00; text-decoration-color: #00af00\">63</span>, <span style=\"color: #00af00; text-decoration-color: #00af00\">8</span>)           │               <span style=\"color: #00af00; text-decoration-color: #00af00\">0</span> │\n",
       "├──────────────────────────────────────┼─────────────────────────────┼─────────────────┤\n",
       "│ conv2d_1 (<span style=\"color: #0087ff; text-decoration-color: #0087ff\">Conv2D</span>)                    │ (<span style=\"color: #00d7ff; text-decoration-color: #00d7ff\">None</span>, <span style=\"color: #00af00; text-decoration-color: #00af00\">61</span>, <span style=\"color: #00af00; text-decoration-color: #00af00\">61</span>, <span style=\"color: #00af00; text-decoration-color: #00af00\">64</span>)          │           <span style=\"color: #00af00; text-decoration-color: #00af00\">4,672</span> │\n",
       "├──────────────────────────────────────┼─────────────────────────────┼─────────────────┤\n",
       "│ max_pooling2d_1 (<span style=\"color: #0087ff; text-decoration-color: #0087ff\">MaxPooling2D</span>)       │ (<span style=\"color: #00d7ff; text-decoration-color: #00d7ff\">None</span>, <span style=\"color: #00af00; text-decoration-color: #00af00\">30</span>, <span style=\"color: #00af00; text-decoration-color: #00af00\">30</span>, <span style=\"color: #00af00; text-decoration-color: #00af00\">64</span>)          │               <span style=\"color: #00af00; text-decoration-color: #00af00\">0</span> │\n",
       "├──────────────────────────────────────┼─────────────────────────────┼─────────────────┤\n",
       "│ conv2d_2 (<span style=\"color: #0087ff; text-decoration-color: #0087ff\">Conv2D</span>)                    │ (<span style=\"color: #00d7ff; text-decoration-color: #00d7ff\">None</span>, <span style=\"color: #00af00; text-decoration-color: #00af00\">28</span>, <span style=\"color: #00af00; text-decoration-color: #00af00\">28</span>, <span style=\"color: #00af00; text-decoration-color: #00af00\">128</span>)         │          <span style=\"color: #00af00; text-decoration-color: #00af00\">73,856</span> │\n",
       "├──────────────────────────────────────┼─────────────────────────────┼─────────────────┤\n",
       "│ max_pooling2d_2 (<span style=\"color: #0087ff; text-decoration-color: #0087ff\">MaxPooling2D</span>)       │ (<span style=\"color: #00d7ff; text-decoration-color: #00d7ff\">None</span>, <span style=\"color: #00af00; text-decoration-color: #00af00\">14</span>, <span style=\"color: #00af00; text-decoration-color: #00af00\">14</span>, <span style=\"color: #00af00; text-decoration-color: #00af00\">128</span>)         │               <span style=\"color: #00af00; text-decoration-color: #00af00\">0</span> │\n",
       "├──────────────────────────────────────┼─────────────────────────────┼─────────────────┤\n",
       "│ flatten (<span style=\"color: #0087ff; text-decoration-color: #0087ff\">Flatten</span>)                    │ (<span style=\"color: #00d7ff; text-decoration-color: #00d7ff\">None</span>, <span style=\"color: #00af00; text-decoration-color: #00af00\">25088</span>)               │               <span style=\"color: #00af00; text-decoration-color: #00af00\">0</span> │\n",
       "├──────────────────────────────────────┼─────────────────────────────┼─────────────────┤\n",
       "│ dropout (<span style=\"color: #0087ff; text-decoration-color: #0087ff\">Dropout</span>)                    │ (<span style=\"color: #00d7ff; text-decoration-color: #00d7ff\">None</span>, <span style=\"color: #00af00; text-decoration-color: #00af00\">25088</span>)               │               <span style=\"color: #00af00; text-decoration-color: #00af00\">0</span> │\n",
       "├──────────────────────────────────────┼─────────────────────────────┼─────────────────┤\n",
       "│ dense (<span style=\"color: #0087ff; text-decoration-color: #0087ff\">Dense</span>)                        │ (<span style=\"color: #00d7ff; text-decoration-color: #00d7ff\">None</span>, <span style=\"color: #00af00; text-decoration-color: #00af00\">128</span>)                 │       <span style=\"color: #00af00; text-decoration-color: #00af00\">3,211,392</span> │\n",
       "├──────────────────────────────────────┼─────────────────────────────┼─────────────────┤\n",
       "│ dropout_1 (<span style=\"color: #0087ff; text-decoration-color: #0087ff\">Dropout</span>)                  │ (<span style=\"color: #00d7ff; text-decoration-color: #00d7ff\">None</span>, <span style=\"color: #00af00; text-decoration-color: #00af00\">128</span>)                 │               <span style=\"color: #00af00; text-decoration-color: #00af00\">0</span> │\n",
       "├──────────────────────────────────────┼─────────────────────────────┼─────────────────┤\n",
       "│ dense_1 (<span style=\"color: #0087ff; text-decoration-color: #0087ff\">Dense</span>)                      │ (<span style=\"color: #00d7ff; text-decoration-color: #00d7ff\">None</span>, <span style=\"color: #00af00; text-decoration-color: #00af00\">29</span>)                  │           <span style=\"color: #00af00; text-decoration-color: #00af00\">3,741</span> │\n",
       "└──────────────────────────────────────┴─────────────────────────────┴─────────────────┘\n",
       "</pre>\n"
      ],
      "text/plain": [
       "┏━━━━━━━━━━━━━━━━━━━━━━━━━━━━━━━━━━━━━━┳━━━━━━━━━━━━━━━━━━━━━━━━━━━━━┳━━━━━━━━━━━━━━━━━┓\n",
       "┃\u001b[1m \u001b[0m\u001b[1mLayer (type)                        \u001b[0m\u001b[1m \u001b[0m┃\u001b[1m \u001b[0m\u001b[1mOutput Shape               \u001b[0m\u001b[1m \u001b[0m┃\u001b[1m \u001b[0m\u001b[1m        Param #\u001b[0m\u001b[1m \u001b[0m┃\n",
       "┡━━━━━━━━━━━━━━━━━━━━━━━━━━━━━━━━━━━━━━╇━━━━━━━━━━━━━━━━━━━━━━━━━━━━━╇━━━━━━━━━━━━━━━━━┩\n",
       "│ conv2d (\u001b[38;5;33mConv2D\u001b[0m)                      │ (\u001b[38;5;45mNone\u001b[0m, \u001b[38;5;34m126\u001b[0m, \u001b[38;5;34m126\u001b[0m, \u001b[38;5;34m8\u001b[0m)         │              \u001b[38;5;34m80\u001b[0m │\n",
       "├──────────────────────────────────────┼─────────────────────────────┼─────────────────┤\n",
       "│ max_pooling2d (\u001b[38;5;33mMaxPooling2D\u001b[0m)         │ (\u001b[38;5;45mNone\u001b[0m, \u001b[38;5;34m63\u001b[0m, \u001b[38;5;34m63\u001b[0m, \u001b[38;5;34m8\u001b[0m)           │               \u001b[38;5;34m0\u001b[0m │\n",
       "├──────────────────────────────────────┼─────────────────────────────┼─────────────────┤\n",
       "│ conv2d_1 (\u001b[38;5;33mConv2D\u001b[0m)                    │ (\u001b[38;5;45mNone\u001b[0m, \u001b[38;5;34m61\u001b[0m, \u001b[38;5;34m61\u001b[0m, \u001b[38;5;34m64\u001b[0m)          │           \u001b[38;5;34m4,672\u001b[0m │\n",
       "├──────────────────────────────────────┼─────────────────────────────┼─────────────────┤\n",
       "│ max_pooling2d_1 (\u001b[38;5;33mMaxPooling2D\u001b[0m)       │ (\u001b[38;5;45mNone\u001b[0m, \u001b[38;5;34m30\u001b[0m, \u001b[38;5;34m30\u001b[0m, \u001b[38;5;34m64\u001b[0m)          │               \u001b[38;5;34m0\u001b[0m │\n",
       "├──────────────────────────────────────┼─────────────────────────────┼─────────────────┤\n",
       "│ conv2d_2 (\u001b[38;5;33mConv2D\u001b[0m)                    │ (\u001b[38;5;45mNone\u001b[0m, \u001b[38;5;34m28\u001b[0m, \u001b[38;5;34m28\u001b[0m, \u001b[38;5;34m128\u001b[0m)         │          \u001b[38;5;34m73,856\u001b[0m │\n",
       "├──────────────────────────────────────┼─────────────────────────────┼─────────────────┤\n",
       "│ max_pooling2d_2 (\u001b[38;5;33mMaxPooling2D\u001b[0m)       │ (\u001b[38;5;45mNone\u001b[0m, \u001b[38;5;34m14\u001b[0m, \u001b[38;5;34m14\u001b[0m, \u001b[38;5;34m128\u001b[0m)         │               \u001b[38;5;34m0\u001b[0m │\n",
       "├──────────────────────────────────────┼─────────────────────────────┼─────────────────┤\n",
       "│ flatten (\u001b[38;5;33mFlatten\u001b[0m)                    │ (\u001b[38;5;45mNone\u001b[0m, \u001b[38;5;34m25088\u001b[0m)               │               \u001b[38;5;34m0\u001b[0m │\n",
       "├──────────────────────────────────────┼─────────────────────────────┼─────────────────┤\n",
       "│ dropout (\u001b[38;5;33mDropout\u001b[0m)                    │ (\u001b[38;5;45mNone\u001b[0m, \u001b[38;5;34m25088\u001b[0m)               │               \u001b[38;5;34m0\u001b[0m │\n",
       "├──────────────────────────────────────┼─────────────────────────────┼─────────────────┤\n",
       "│ dense (\u001b[38;5;33mDense\u001b[0m)                        │ (\u001b[38;5;45mNone\u001b[0m, \u001b[38;5;34m128\u001b[0m)                 │       \u001b[38;5;34m3,211,392\u001b[0m │\n",
       "├──────────────────────────────────────┼─────────────────────────────┼─────────────────┤\n",
       "│ dropout_1 (\u001b[38;5;33mDropout\u001b[0m)                  │ (\u001b[38;5;45mNone\u001b[0m, \u001b[38;5;34m128\u001b[0m)                 │               \u001b[38;5;34m0\u001b[0m │\n",
       "├──────────────────────────────────────┼─────────────────────────────┼─────────────────┤\n",
       "│ dense_1 (\u001b[38;5;33mDense\u001b[0m)                      │ (\u001b[38;5;45mNone\u001b[0m, \u001b[38;5;34m29\u001b[0m)                  │           \u001b[38;5;34m3,741\u001b[0m │\n",
       "└──────────────────────────────────────┴─────────────────────────────┴─────────────────┘\n"
      ]
     },
     "metadata": {},
     "output_type": "display_data"
    },
    {
     "data": {
      "text/html": [
       "<pre style=\"white-space:pre;overflow-x:auto;line-height:normal;font-family:Menlo,'DejaVu Sans Mono',consolas,'Courier New',monospace\"><span style=\"font-weight: bold\"> Total params: </span><span style=\"color: #00af00; text-decoration-color: #00af00\">3,293,741</span> (12.56 MB)\n",
       "</pre>\n"
      ],
      "text/plain": [
       "\u001b[1m Total params: \u001b[0m\u001b[38;5;34m3,293,741\u001b[0m (12.56 MB)\n"
      ]
     },
     "metadata": {},
     "output_type": "display_data"
    },
    {
     "data": {
      "text/html": [
       "<pre style=\"white-space:pre;overflow-x:auto;line-height:normal;font-family:Menlo,'DejaVu Sans Mono',consolas,'Courier New',monospace\"><span style=\"font-weight: bold\"> Trainable params: </span><span style=\"color: #00af00; text-decoration-color: #00af00\">3,293,741</span> (12.56 MB)\n",
       "</pre>\n"
      ],
      "text/plain": [
       "\u001b[1m Trainable params: \u001b[0m\u001b[38;5;34m3,293,741\u001b[0m (12.56 MB)\n"
      ]
     },
     "metadata": {},
     "output_type": "display_data"
    },
    {
     "data": {
      "text/html": [
       "<pre style=\"white-space:pre;overflow-x:auto;line-height:normal;font-family:Menlo,'DejaVu Sans Mono',consolas,'Courier New',monospace\"><span style=\"font-weight: bold\"> Non-trainable params: </span><span style=\"color: #00af00; text-decoration-color: #00af00\">0</span> (0.00 B)\n",
       "</pre>\n"
      ],
      "text/plain": [
       "\u001b[1m Non-trainable params: \u001b[0m\u001b[38;5;34m0\u001b[0m (0.00 B)\n"
      ]
     },
     "metadata": {},
     "output_type": "display_data"
    },
    {
     "name": "stdout",
     "output_type": "stream",
     "text": [
      "None\n"
     ]
    }
   ],
   "source": [
    "# load trained model\n",
    "from tensorflow.keras.models import load_model\n",
    "load_name ='./keras_saves/' +  model_name_to_export + '.keras'\n",
    "model = load_model(load_name, compile=False) \n",
    "print(model.summary())"
   ]
  },
  {
   "cell_type": "code",
   "execution_count": 20,
   "id": "d239fb8a-f4e6-4704-9abe-d6c4e965cee4",
   "metadata": {},
   "outputs": [
    {
     "name": "stdout",
     "output_type": "stream",
     "text": [
      "INFO:tensorflow:Assets written to: ./model_exports/assets\n"
     ]
    },
    {
     "name": "stderr",
     "output_type": "stream",
     "text": [
      "INFO:tensorflow:Assets written to: ./model_exports/assets\n"
     ]
    },
    {
     "name": "stdout",
     "output_type": "stream",
     "text": [
      "Saved artifact at './model_exports/'. The following endpoints are available:\n",
      "\n",
      "* Endpoint 'serve'\n",
      "  args_0 (POSITIONAL_ONLY): TensorSpec(shape=(None, 128, 128, 1), dtype=tf.float32, name='input_layer')\n",
      "Output Type:\n",
      "  TensorSpec(shape=(None, 29), dtype=tf.float32, name=None)\n",
      "Captures:\n",
      "  2294615169872: TensorSpec(shape=(), dtype=tf.resource, name=None)\n",
      "  2294615170256: TensorSpec(shape=(), dtype=tf.resource, name=None)\n",
      "  2294615170448: TensorSpec(shape=(), dtype=tf.resource, name=None)\n",
      "  2294615171408: TensorSpec(shape=(), dtype=tf.resource, name=None)\n",
      "  2294615171600: TensorSpec(shape=(), dtype=tf.resource, name=None)\n",
      "  2294615172176: TensorSpec(shape=(), dtype=tf.resource, name=None)\n",
      "  2294615171792: TensorSpec(shape=(), dtype=tf.resource, name=None)\n",
      "  2294615173712: TensorSpec(shape=(), dtype=tf.resource, name=None)\n",
      "  2294615174096: TensorSpec(shape=(), dtype=tf.resource, name=None)\n",
      "  2294615175056: TensorSpec(shape=(), dtype=tf.resource, name=None)\n"
     ]
    }
   ],
   "source": [
    "# export model\n",
    "model.export('./model_exports/')"
   ]
  },
  {
   "cell_type": "code",
   "execution_count": null,
   "id": "b52d71d3-c0b6-40f0-b33c-3f0061b40965",
   "metadata": {},
   "outputs": [],
   "source": [
    "# load exported model\n",
    "import tensorflow as tf\n",
    "reloaded_artifact = tf.saved_model.load('./model_exports/')\n",
    "print(reloaded_artifact.signatures)\n"
   ]
  },
  {
   "cell_type": "code",
   "execution_count": null,
   "id": "7ff0ef3e-070c-48e5-9cbc-736ac24974fa",
   "metadata": {},
   "outputs": [],
   "source": [
    "# prepocess test image\n",
    "# test_img_path = './data/archive/asl_alphabet_test/asl_alphabet_test/L_test.jpg'\n",
    "test_img_path = './data/test/test4.jpeg'\n",
    "og_image = Image.open(test_img_path)\n",
    "image = og_image.convert('L') # convert to grayscale\n",
    "image = image.resize((128, 128)) # resize\n",
    "image = np.array(image) # convert to array\n",
    "image = image / 255.0 # normalize\n",
    "image_array = np.expand_dims(image, axis=-1) \n",
    "image_array = np.expand_dims(image_array, axis=0) \n"
   ]
  },
  {
   "cell_type": "code",
   "execution_count": null,
   "id": "0ab1e877-4d62-4024-bc7d-c43e20cf90e9",
   "metadata": {},
   "outputs": [],
   "source": [
    "# predict test image\n",
    "predictions = reloaded_artifact.serve(image_array)\n",
    "rounded = np.round(predictions)\n",
    "b_load_name = './binarizer/' + model_name_to_export + '.pkl'\n",
    "label_binarizer = joblib.load(b_load_name) \n",
    "original_label = label_binarizer.inverse_transform(rounded)\n",
    "print(original_label)"
   ]
  },
  {
   "cell_type": "code",
   "execution_count": null,
   "id": "4d3fc85e-3d89-4a0a-9c7d-4144faf35348",
   "metadata": {},
   "outputs": [],
   "source": []
  }
 ],
 "metadata": {
  "kernelspec": {
   "display_name": "venv",
   "language": "python",
   "name": "venv"
  },
  "language_info": {
   "codemirror_mode": {
    "name": "ipython",
    "version": 3
   },
   "file_extension": ".py",
   "mimetype": "text/x-python",
   "name": "python",
   "nbconvert_exporter": "python",
   "pygments_lexer": "ipython3",
   "version": "3.12.0"
  }
 },
 "nbformat": 4,
 "nbformat_minor": 5
}
