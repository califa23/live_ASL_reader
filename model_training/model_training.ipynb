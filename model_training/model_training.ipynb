{
 "cells": [
  {
   "cell_type": "code",
   "execution_count": 1,
   "id": "fc51c25d-2a83-460d-8214-0ea1012ff130",
   "metadata": {},
   "outputs": [
    {
     "name": "stdout",
     "output_type": "stream",
     "text": [
      "joblib==1.4.2\n",
      "numpy==2.1.2\n",
      "scikit-learn==1.5.2\n",
      "scipy==1.14.1\n",
      "threadpoolctl==3.5.0\n"
     ]
    }
   ],
   "source": [
    "!pip freeze"
   ]
  },
  {
   "cell_type": "code",
   "execution_count": 2,
   "id": "0a98cd55-2c18-4a21-b6ce-764b4ccbe3c7",
   "metadata": {},
   "outputs": [],
   "source": [
    "# imports\n",
    "import os\n",
    "from PIL import Image\n",
    "import numpy as np\n",
    "from sklearn.model_selection import train_test_split\n",
    "import joblib\n",
    "from sklearn.preprocessing import LabelBinarizer\n",
    "from tensorflow.keras import layers, models"
   ]
  },
  {
   "cell_type": "code",
   "execution_count": 3,
   "id": "8c241d70-9626-4d16-8f9d-3215e67b54b9",
   "metadata": {},
   "outputs": [],
   "source": [
    "# read in data and preprocess\n",
    "images_path = './data/asl_dataset/'\n",
    "images = []\n",
    "\n",
    "for directory in os.listdir(images_path):\n",
    "    for file in os.listdir(images_path+directory):\n",
    "        file_path = images_path+directory+'/'+file\n",
    "        image = Image.open(file_path)\n",
    "        image = image.convert('L') # convert to grayscale\n",
    "        image = image.resize((128, 128)) # resize\n",
    "        # image.save('./data/resized/'+file) # uncomment to save the resized image\n",
    "        image = np.array(image) # convert to array\n",
    "        image = image / 255.0 # normalize\n",
    "        images.append((directory, image))\n",
    "\n",
    "x = [image[1] for image in images]\n",
    "y = [image[0] for image in images]\n",
    "\n",
    "x_train, x_test, y_train, y_test = train_test_split(x, y, test_size=0.2, random_state=0)"
   ]
  },
  {
   "cell_type": "code",
   "execution_count": 35,
   "id": "8df14461-a73c-4088-8bf8-b5d3522b848a",
   "metadata": {},
   "outputs": [
    {
     "name": "stdout",
     "output_type": "stream",
     "text": [
      "(2012, 128, 128)\n",
      "(2012, 36)\n",
      "(503, 128, 128)\n",
      "(503, 36)\n",
      "[0 0 0 0 0 0 0 0 0 0 0 0 0 0 0 0 0 0 0 0 0 0 0 0 0 0 0 0 0 1 0 0 0 0 0 0]\n"
     ]
    }
   ],
   "source": [
    "x_train = np.array(x_train)\n",
    "x_test = np.array(x_test)\n",
    "\n",
    "# binarize the labels\n",
    "label_binarizer = LabelBinarizer()\n",
    "y_train = label_binarizer.fit_transform(y_train)\n",
    "y_test = label_binarizer.transform(y_test)\n",
    "joblib.dump(label_binarizer, './models/label_binarizer1.pkl') # save label binarizer\n",
    "\n",
    "\n",
    "print(x_train.shape)\n",
    "print(y_train.shape)\n",
    "print(x_test.shape)\n",
    "print(y_test.shape)\n",
    "print(y_test[0])"
   ]
  },
  {
   "cell_type": "code",
   "execution_count": 5,
   "id": "b3ae2861-2d3e-4842-ba12-87367adae74d",
   "metadata": {
    "scrolled": true
   },
   "outputs": [
    {
     "name": "stderr",
     "output_type": "stream",
     "text": [
      "C:\\Users\\calif\\Desktop\\DataMining\\venv\\Lib\\site-packages\\keras\\src\\layers\\convolutional\\base_conv.py:99: UserWarning: Do not pass an `input_shape`/`input_dim` argument to a layer. When using Sequential models, prefer using an `Input(shape)` object as the first layer in the model instead.\n",
      "  super().__init__(\n"
     ]
    },
    {
     "name": "stdout",
     "output_type": "stream",
     "text": [
      "Epoch 1/30\n",
      "\u001b[1m13/13\u001b[0m \u001b[32m━━━━━━━━━━━━━━━━━━━━\u001b[0m\u001b[37m\u001b[0m \u001b[1m4s\u001b[0m 137ms/step - accuracy: 0.0631 - loss: 3.4891 - val_accuracy: 0.1365 - val_loss: 3.1665\n",
      "Epoch 2/30\n",
      "\u001b[1m13/13\u001b[0m \u001b[32m━━━━━━━━━━━━━━━━━━━━\u001b[0m\u001b[37m\u001b[0m \u001b[1m1s\u001b[0m 85ms/step - accuracy: 0.2027 - loss: 2.9537 - val_accuracy: 0.2531 - val_loss: 2.8319\n",
      "Epoch 3/30\n",
      "\u001b[1m13/13\u001b[0m \u001b[32m━━━━━━━━━━━━━━━━━━━━\u001b[0m\u001b[37m\u001b[0m \u001b[1m1s\u001b[0m 86ms/step - accuracy: 0.3024 - loss: 2.5750 - val_accuracy: 0.2928 - val_loss: 2.6389\n",
      "Epoch 4/30\n",
      "\u001b[1m13/13\u001b[0m \u001b[32m━━━━━━━━━━━━━━━━━━━━\u001b[0m\u001b[37m\u001b[0m \u001b[1m1s\u001b[0m 87ms/step - accuracy: 0.3338 - loss: 2.3861 - val_accuracy: 0.3151 - val_loss: 2.4441\n",
      "Epoch 5/30\n",
      "\u001b[1m13/13\u001b[0m \u001b[32m━━━━━━━━━━━━━━━━━━━━\u001b[0m\u001b[37m\u001b[0m \u001b[1m1s\u001b[0m 85ms/step - accuracy: 0.3703 - loss: 2.2118 - val_accuracy: 0.3821 - val_loss: 2.3174\n",
      "Epoch 6/30\n",
      "\u001b[1m13/13\u001b[0m \u001b[32m━━━━━━━━━━━━━━━━━━━━\u001b[0m\u001b[37m\u001b[0m \u001b[1m1s\u001b[0m 87ms/step - accuracy: 0.4259 - loss: 2.0820 - val_accuracy: 0.4194 - val_loss: 2.1796\n",
      "Epoch 7/30\n",
      "\u001b[1m13/13\u001b[0m \u001b[32m━━━━━━━━━━━━━━━━━━━━\u001b[0m\u001b[37m\u001b[0m \u001b[1m1s\u001b[0m 96ms/step - accuracy: 0.4592 - loss: 1.9528 - val_accuracy: 0.4764 - val_loss: 2.0508\n",
      "Epoch 8/30\n",
      "\u001b[1m13/13\u001b[0m \u001b[32m━━━━━━━━━━━━━━━━━━━━\u001b[0m\u001b[37m\u001b[0m \u001b[1m1s\u001b[0m 86ms/step - accuracy: 0.5478 - loss: 1.7119 - val_accuracy: 0.4913 - val_loss: 1.9626\n",
      "Epoch 9/30\n",
      "\u001b[1m13/13\u001b[0m \u001b[32m━━━━━━━━━━━━━━━━━━━━\u001b[0m\u001b[37m\u001b[0m \u001b[1m1s\u001b[0m 82ms/step - accuracy: 0.5488 - loss: 1.6225 - val_accuracy: 0.5236 - val_loss: 1.8535\n",
      "Epoch 10/30\n",
      "\u001b[1m13/13\u001b[0m \u001b[32m━━━━━━━━━━━━━━━━━━━━\u001b[0m\u001b[37m\u001b[0m \u001b[1m1s\u001b[0m 90ms/step - accuracy: 0.5622 - loss: 1.5070 - val_accuracy: 0.5211 - val_loss: 1.7895\n",
      "Epoch 11/30\n",
      "\u001b[1m13/13\u001b[0m \u001b[32m━━━━━━━━━━━━━━━━━━━━\u001b[0m\u001b[37m\u001b[0m \u001b[1m1s\u001b[0m 88ms/step - accuracy: 0.5754 - loss: 1.4612 - val_accuracy: 0.5360 - val_loss: 1.7267\n",
      "Epoch 12/30\n",
      "\u001b[1m13/13\u001b[0m \u001b[32m━━━━━━━━━━━━━━━━━━━━\u001b[0m\u001b[37m\u001b[0m \u001b[1m1s\u001b[0m 86ms/step - accuracy: 0.6375 - loss: 1.2643 - val_accuracy: 0.5856 - val_loss: 1.4972\n",
      "Epoch 13/30\n",
      "\u001b[1m13/13\u001b[0m \u001b[32m━━━━━━━━━━━━━━━━━━━━\u001b[0m\u001b[37m\u001b[0m \u001b[1m1s\u001b[0m 88ms/step - accuracy: 0.6648 - loss: 1.1751 - val_accuracy: 0.5980 - val_loss: 1.4456\n",
      "Epoch 14/30\n",
      "\u001b[1m13/13\u001b[0m \u001b[32m━━━━━━━━━━━━━━━━━━━━\u001b[0m\u001b[37m\u001b[0m \u001b[1m1s\u001b[0m 99ms/step - accuracy: 0.7229 - loss: 1.0026 - val_accuracy: 0.6303 - val_loss: 1.2831\n",
      "Epoch 15/30\n",
      "\u001b[1m13/13\u001b[0m \u001b[32m━━━━━━━━━━━━━━━━━━━━\u001b[0m\u001b[37m\u001b[0m \u001b[1m1s\u001b[0m 92ms/step - accuracy: 0.7390 - loss: 0.9046 - val_accuracy: 0.6452 - val_loss: 1.2235\n",
      "Epoch 16/30\n",
      "\u001b[1m13/13\u001b[0m \u001b[32m━━━━━━━━━━━━━━━━━━━━\u001b[0m\u001b[37m\u001b[0m \u001b[1m1s\u001b[0m 98ms/step - accuracy: 0.7877 - loss: 0.7641 - val_accuracy: 0.6973 - val_loss: 1.0555\n",
      "Epoch 17/30\n",
      "\u001b[1m13/13\u001b[0m \u001b[32m━━━━━━━━━━━━━━━━━━━━\u001b[0m\u001b[37m\u001b[0m \u001b[1m1s\u001b[0m 84ms/step - accuracy: 0.8164 - loss: 0.6488 - val_accuracy: 0.6923 - val_loss: 1.0448\n",
      "Epoch 18/30\n",
      "\u001b[1m13/13\u001b[0m \u001b[32m━━━━━━━━━━━━━━━━━━━━\u001b[0m\u001b[37m\u001b[0m \u001b[1m1s\u001b[0m 86ms/step - accuracy: 0.8465 - loss: 0.5468 - val_accuracy: 0.7395 - val_loss: 0.9668\n",
      "Epoch 19/30\n",
      "\u001b[1m13/13\u001b[0m \u001b[32m━━━━━━━━━━━━━━━━━━━━\u001b[0m\u001b[37m\u001b[0m \u001b[1m1s\u001b[0m 89ms/step - accuracy: 0.8572 - loss: 0.4957 - val_accuracy: 0.7370 - val_loss: 0.9705\n",
      "Epoch 20/30\n",
      "\u001b[1m13/13\u001b[0m \u001b[32m━━━━━━━━━━━━━━━━━━━━\u001b[0m\u001b[37m\u001b[0m \u001b[1m1s\u001b[0m 86ms/step - accuracy: 0.8803 - loss: 0.4245 - val_accuracy: 0.7370 - val_loss: 0.8913\n",
      "Epoch 21/30\n",
      "\u001b[1m13/13\u001b[0m \u001b[32m━━━━━━━━━━━━━━━━━━━━\u001b[0m\u001b[37m\u001b[0m \u001b[1m1s\u001b[0m 87ms/step - accuracy: 0.8827 - loss: 0.3724 - val_accuracy: 0.7568 - val_loss: 0.9257\n",
      "Epoch 22/30\n",
      "\u001b[1m13/13\u001b[0m \u001b[32m━━━━━━━━━━━━━━━━━━━━\u001b[0m\u001b[37m\u001b[0m \u001b[1m1s\u001b[0m 96ms/step - accuracy: 0.8968 - loss: 0.3298 - val_accuracy: 0.7940 - val_loss: 0.7943\n",
      "Epoch 23/30\n",
      "\u001b[1m13/13\u001b[0m \u001b[32m━━━━━━━━━━━━━━━━━━━━\u001b[0m\u001b[37m\u001b[0m \u001b[1m1s\u001b[0m 85ms/step - accuracy: 0.9080 - loss: 0.3027 - val_accuracy: 0.7891 - val_loss: 0.7405\n",
      "Epoch 24/30\n",
      "\u001b[1m13/13\u001b[0m \u001b[32m━━━━━━━━━━━━━━━━━━━━\u001b[0m\u001b[37m\u001b[0m \u001b[1m1s\u001b[0m 83ms/step - accuracy: 0.9168 - loss: 0.2728 - val_accuracy: 0.7866 - val_loss: 0.7438\n",
      "Epoch 25/30\n",
      "\u001b[1m13/13\u001b[0m \u001b[32m━━━━━━━━━━━━━━━━━━━━\u001b[0m\u001b[37m\u001b[0m \u001b[1m1s\u001b[0m 85ms/step - accuracy: 0.9352 - loss: 0.2331 - val_accuracy: 0.7940 - val_loss: 0.7450\n",
      "Epoch 26/30\n",
      "\u001b[1m13/13\u001b[0m \u001b[32m━━━━━━━━━━━━━━━━━━━━\u001b[0m\u001b[37m\u001b[0m \u001b[1m1s\u001b[0m 89ms/step - accuracy: 0.9506 - loss: 0.1942 - val_accuracy: 0.8114 - val_loss: 0.8695\n",
      "Epoch 27/30\n",
      "\u001b[1m13/13\u001b[0m \u001b[32m━━━━━━━━━━━━━━━━━━━━\u001b[0m\u001b[37m\u001b[0m \u001b[1m1s\u001b[0m 98ms/step - accuracy: 0.9636 - loss: 0.1718 - val_accuracy: 0.8189 - val_loss: 0.6220\n",
      "Epoch 28/30\n",
      "\u001b[1m13/13\u001b[0m \u001b[32m━━━━━━━━━━━━━━━━━━━━\u001b[0m\u001b[37m\u001b[0m \u001b[1m1s\u001b[0m 86ms/step - accuracy: 0.9673 - loss: 0.1390 - val_accuracy: 0.8313 - val_loss: 0.5999\n",
      "Epoch 29/30\n",
      "\u001b[1m13/13\u001b[0m \u001b[32m━━━━━━━━━━━━━━━━━━━━\u001b[0m\u001b[37m\u001b[0m \u001b[1m1s\u001b[0m 86ms/step - accuracy: 0.9710 - loss: 0.1282 - val_accuracy: 0.8238 - val_loss: 0.6521\n",
      "Epoch 30/30\n",
      "\u001b[1m13/13\u001b[0m \u001b[32m━━━━━━━━━━━━━━━━━━━━\u001b[0m\u001b[37m\u001b[0m \u001b[1m1s\u001b[0m 88ms/step - accuracy: 0.9717 - loss: 0.1249 - val_accuracy: 0.8685 - val_loss: 0.5893\n"
     ]
    }
   ],
   "source": [
    "model = models.Sequential([\n",
    "    layers.Conv2D(8, (3, 3), activation='relu', input_shape=(128, 128, 1)),\n",
    "    layers.MaxPooling2D((2, 2)),\n",
    "    layers.Flatten(),\n",
    "    layers.Dense(16, activation='relu'),\n",
    "    layers.Dense(36, activation='softmax')\n",
    "])\n",
    "\n",
    "model.compile(optimizer='adam',\n",
    "              loss='categorical_crossentropy',\n",
    "              metrics=['accuracy'])\n",
    "\n",
    "history = model.fit(x_train, y_train, epochs=30, batch_size=128, validation_split=0.2)"
   ]
  },
  {
   "cell_type": "code",
   "execution_count": 6,
   "id": "71d5f247-4049-44a0-9484-655b759e0ed5",
   "metadata": {},
   "outputs": [
    {
     "data": {
      "image/png": "[encoded data removed]",
      "text/plain": [
       "<Figure size 640x480 with 1 Axes>"
      ]
     },
     "metadata": {},
     "output_type": "display_data"
    }
   ],
   "source": [
    "# plot model performance\n",
    "import matplotlib.pyplot as plt\n",
    "\n",
    "plt.plot(history.history['accuracy'])\n",
    "plt.plot(history.history['val_accuracy'])\n",
    "plt.xlabel('Epoch')\n",
    "plt.ylabel('Accuracy')\n",
    "plt.legend(['Train', 'Validation'])\n",
    "plt.show()"
   ]
  },
  {
   "cell_type": "code",
   "execution_count": 7,
   "id": "7a22e07b-6d16-4aa6-8f7e-0c60c15ca145",
   "metadata": {},
   "outputs": [
    {
     "name": "stdout",
     "output_type": "stream",
     "text": [
      "\u001b[1m16/16\u001b[0m \u001b[32m━━━━━━━━━━━━━━━━━━━━\u001b[0m\u001b[37m\u001b[0m \u001b[1m0s\u001b[0m 20ms/step - accuracy: 0.8863 - loss: 0.4586\n",
      "0.5501701235771179\n",
      "0.8727633953094482\n"
     ]
    }
   ],
   "source": [
    "# print results of test data ran through model\n",
    "\n",
    "test_loss, test_accuracy = model.evaluate(x_test, y_test)\n",
    "\n",
    "print(test_loss)\n",
    "print(test_accuracy)"
   ]
  },
  {
   "cell_type": "code",
   "execution_count": 8,
   "id": "99b81ed7-932a-4efd-82ab-7315c97c5190",
   "metadata": {},
   "outputs": [],
   "source": [
    "# save model\n",
    "model.save('./models/model1.keras')"
   ]
  },
  {
   "cell_type": "code",
   "execution_count": 36,
   "id": "a794b628-97ac-4892-ba72-1964bb19f03a",
   "metadata": {},
   "outputs": [
    {
     "name": "stdout",
     "output_type": "stream",
     "text": [
      "\u001b[1m1/1\u001b[0m \u001b[32m━━━━━━━━━━━━━━━━━━━━\u001b[0m\u001b[37m\u001b[0m \u001b[1m0s\u001b[0m 58ms/step\n",
      "[[3.03944248e-08 2.92696097e-14 7.94476952e-13 9.45485111e-15\n",
      "  3.40769795e-08 6.95319832e-05 5.98691372e-07 6.38514942e-18\n",
      "  4.59648682e-12 1.25844139e-07 6.67319307e-03 2.18676691e-11\n",
      "  1.83577117e-06 4.29992338e-17 5.45493400e-16 2.59943704e-07\n",
      "  1.10511333e-04 2.57112712e-12 2.84700469e-23 4.53551875e-05\n",
      "  4.75205812e-15 3.28224878e-08 9.06961432e-05 2.03346076e-07\n",
      "  2.95161638e-11 2.90705102e-05 1.15440386e-08 1.12072495e-13\n",
      "  6.70359582e-02 9.25942361e-01 1.60670929e-13 1.05064927e-07\n",
      "  2.80790429e-17 3.81167473e-16 2.92866762e-08 2.28463357e-22]]\n"
     ]
    }
   ],
   "source": [
    "t = np.expand_dims(x_test[0], axis=0) \n",
    "predictions = model.predict(t)\n",
    "# predicted_class = np.argmax(predictions, axis=1)\n",
    "print(predictions)\n",
    "# print(predicted_class.reshape(-1, 1))\n",
    "# original_label = label_binarizer.inverse_transform(predicted_class)\n",
    "# original_label"
   ]
  },
  {
   "cell_type": "code",
   "execution_count": null,
   "id": "74ae6e05-e54a-4e9a-ad24-dc02e2268be1",
   "metadata": {},
   "outputs": [],
   "source": []
  }
 ],
 "metadata": {
  "kernelspec": {
   "display_name": "venv",
   "language": "python",
   "name": "venv"
  },
  "language_info": {
   "codemirror_mode": {
    "name": "ipython",
    "version": 3
   },
   "file_extension": ".py",
   "mimetype": "text/x-python",
   "name": "python",
   "nbconvert_exporter": "python",
   "pygments_lexer": "ipython3",
   "version": "3.12.0"
  }
 },
 "nbformat": 4,
 "nbformat_minor": 5
}
