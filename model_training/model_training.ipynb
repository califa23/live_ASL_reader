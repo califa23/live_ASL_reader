{
 "cells": [
  {
   "cell_type": "code",
   "execution_count": 1,
   "id": "fc51c25d-2a83-460d-8214-0ea1012ff130",
   "metadata": {},
   "outputs": [
    {
     "name": "stdout",
     "output_type": "stream",
     "text": [
      "joblib==1.4.2\n",
      "numpy==2.1.2\n",
      "scikit-learn==1.5.2\n",
      "scipy==1.14.1\n",
      "threadpoolctl==3.5.0\n"
     ]
    }
   ],
   "source": [
    "!pip freeze"
   ]
  },
  {
   "cell_type": "code",
   "execution_count": 19,
   "id": "0a98cd55-2c18-4a21-b6ce-764b4ccbe3c7",
   "metadata": {},
   "outputs": [],
   "source": [
    "# imports\n",
    "import os\n",
    "from PIL import Image\n",
    "import numpy as np\n",
    "from sklearn.model_selection import train_test_split\n",
    "from sklearn.preprocessing import LabelBinarizer"
   ]
  },
  {
   "cell_type": "code",
   "execution_count": 20,
   "id": "8c241d70-9626-4d16-8f9d-3215e67b54b9",
   "metadata": {},
   "outputs": [],
   "source": [
    "# read in data\n",
    "images_path = './data/asl_dataset/'\n",
    "images = []\n",
    "\n",
    "for directory in os.listdir(images_path):\n",
    "    for file in os.listdir(images_path+directory):\n",
    "        file_path = images_path+directory+'/'+file\n",
    "        image = Image.open(file_path)\n",
    "        image = image.convert('L')\n",
    "        image = image.resize((100, 100))\n",
    "        # save the resized image\n",
    "        # image.save('./data/resized/'+file)\n",
    "        image = np.array(image)\n",
    "        image = image / 255.0\n",
    "        images.append((directory, image))\n",
    "\n",
    "x = [image[1] for image in images]\n",
    "y = [image[0] for image in images]\n",
    "\n",
    "x_train, x_test, y_train, y_test = train_test_split(x, y, test_size=0.2, random_state=0)"
   ]
  },
  {
   "cell_type": "code",
   "execution_count": 22,
   "id": "8df14461-a73c-4088-8bf8-b5d3522b848a",
   "metadata": {},
   "outputs": [
    {
     "name": "stdout",
     "output_type": "stream",
     "text": [
      "(2012, 100, 100)\n",
      "(2012, 36)\n",
      "(503, 100, 100)\n",
      "(503, 36)\n"
     ]
    }
   ],
   "source": [
    "x_train = np.array(x_train)\n",
    "x_test = np.array(x_test)\n",
    "\n",
    "label_binarizer = LabelBinarizer()\n",
    "y_train = label_binarizer.fit_transform(y_train)\n",
    "y_test = label_binarizer.transform(y_test)\n",
    "\n",
    "\n",
    "print(x_train.shape)\n",
    "print(y_train.shape)\n",
    "print(x_test.shape)\n",
    "print(y_test.shape)"
   ]
  },
  {
   "cell_type": "code",
   "execution_count": null,
   "id": "b3ae2861-2d3e-4842-ba12-87367adae74d",
   "metadata": {},
   "outputs": [],
   "source": []
  }
 ],
 "metadata": {
  "kernelspec": {
   "display_name": "venv",
   "language": "python",
   "name": "venv"
  },
  "language_info": {
   "codemirror_mode": {
    "name": "ipython",
    "version": 3
   },
   "file_extension": ".py",
   "mimetype": "text/x-python",
   "name": "python",
   "nbconvert_exporter": "python",
   "pygments_lexer": "ipython3",
   "version": "3.12.0"
  }
 },
 "nbformat": 4,
 "nbformat_minor": 5
}
